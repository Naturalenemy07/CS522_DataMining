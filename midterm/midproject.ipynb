{
 "cells": [
  {
   "cell_type": "markdown",
   "metadata": {},
   "source": [
    "# Mid-Term Project"
   ]
  },
  {
   "cell_type": "code",
   "execution_count": 4,
   "metadata": {},
   "outputs": [
    {
     "name": "stdout",
     "output_type": "stream",
     "text": [
      "Requirement already satisfied: ucimlrepo in /home/raven/Documents/CS/CS522_DM/github/CS522_DataMining/datamining/lib/python3.10/site-packages (0.0.1)\n",
      "Note: you may need to restart the kernel to use updated packages.\n"
     ]
    }
   ],
   "source": [
    "## Load packages\n",
    "%pip install ucimlrepo\n",
    "from ucimlrepo import fetch_ucirepo \n"
   ]
  },
  {
   "cell_type": "code",
   "execution_count": 2,
   "metadata": {},
   "outputs": [
    {
     "ename": "TypeError",
     "evalue": "'NoneType' object is not iterable",
     "output_type": "error",
     "traceback": [
      "\u001b[0;31m---------------------------------------------------------------------------\u001b[0m",
      "\u001b[0;31mTypeError\u001b[0m                                 Traceback (most recent call last)",
      "\u001b[1;32m/home/raven/Documents/CS/CS522_DM/github/CS522_DataMining/homework/midproject.ipynb Cell 3\u001b[0m line \u001b[0;36m2\n\u001b[1;32m      <a href='vscode-notebook-cell:/home/raven/Documents/CS/CS522_DM/github/CS522_DataMining/homework/midproject.ipynb#W5sZmlsZQ%3D%3D?line=0'>1</a>\u001b[0m \u001b[39m# fetch dataset \u001b[39;00m\n\u001b[0;32m----> <a href='vscode-notebook-cell:/home/raven/Documents/CS/CS522_DM/github/CS522_DataMining/homework/midproject.ipynb#W5sZmlsZQ%3D%3D?line=1'>2</a>\u001b[0m breast_cancer \u001b[39m=\u001b[39m fetch_ucirepo(\u001b[39mid\u001b[39;49m\u001b[39m=\u001b[39;49m\u001b[39m14\u001b[39;49m) \n\u001b[1;32m      <a href='vscode-notebook-cell:/home/raven/Documents/CS/CS522_DM/github/CS522_DataMining/homework/midproject.ipynb#W5sZmlsZQ%3D%3D?line=3'>4</a>\u001b[0m \u001b[39m# data (as pandas dataframes) \u001b[39;00m\n\u001b[1;32m      <a href='vscode-notebook-cell:/home/raven/Documents/CS/CS522_DM/github/CS522_DataMining/homework/midproject.ipynb#W5sZmlsZQ%3D%3D?line=4'>5</a>\u001b[0m X \u001b[39m=\u001b[39m breast_cancer\u001b[39m.\u001b[39mdata\u001b[39m.\u001b[39mfeatures \n",
      "File \u001b[0;32m~/Documents/CS/CS522_DM/github/CS522_DataMining/datamining/lib/python3.10/site-packages/ucimlrepo/fetch.py:148\u001b[0m, in \u001b[0;36mfetch_ucirepo\u001b[0;34m(name, id)\u001b[0m\n\u001b[1;32m    142\u001b[0m \u001b[39m# alternative usage?: \u001b[39;00m\n\u001b[1;32m    143\u001b[0m \u001b[39m# variables.age.role or variables.slope.description\u001b[39;00m\n\u001b[1;32m    144\u001b[0m \u001b[39m# print(variables) -> json-like dict with keys [name] -> details\u001b[39;00m\n\u001b[1;32m    145\u001b[0m \n\u001b[1;32m    146\u001b[0m \u001b[39m# make nested metadata fields accessible via dot notation\u001b[39;00m\n\u001b[1;32m    147\u001b[0m metadata[\u001b[39m'\u001b[39m\u001b[39madditional_info\u001b[39m\u001b[39m'\u001b[39m] \u001b[39m=\u001b[39m dotdict(metadata[\u001b[39m'\u001b[39m\u001b[39madditional_info\u001b[39m\u001b[39m'\u001b[39m])\n\u001b[0;32m--> 148\u001b[0m metadata[\u001b[39m'\u001b[39m\u001b[39mintro_paper\u001b[39m\u001b[39m'\u001b[39m] \u001b[39m=\u001b[39m dotdict(metadata[\u001b[39m'\u001b[39;49m\u001b[39mintro_paper\u001b[39;49m\u001b[39m'\u001b[39;49m])\n\u001b[1;32m    150\u001b[0m \u001b[39m# construct result object\u001b[39;00m\n\u001b[1;32m    151\u001b[0m result \u001b[39m=\u001b[39m {\n\u001b[1;32m    152\u001b[0m     \u001b[39m'\u001b[39m\u001b[39mdata\u001b[39m\u001b[39m'\u001b[39m: dotdict(data),\n\u001b[1;32m    153\u001b[0m     \u001b[39m'\u001b[39m\u001b[39mmetadata\u001b[39m\u001b[39m'\u001b[39m: dotdict(metadata),\n\u001b[1;32m    154\u001b[0m     \u001b[39m'\u001b[39m\u001b[39mvariables\u001b[39m\u001b[39m'\u001b[39m: variables\n\u001b[1;32m    155\u001b[0m }\n",
      "\u001b[0;31mTypeError\u001b[0m: 'NoneType' object is not iterable"
     ]
    }
   ],
   "source": [
    "# fetch dataset \n",
    "breast_cancer = fetch_ucirepo(id=14) \n",
    "  \n",
    "# data (as pandas dataframes) \n",
    "X = breast_cancer.data.features \n",
    "y = breast_cancer.data.targets \n",
    "  \n",
    "# metadata \n",
    "print(breast_cancer.metadata) \n",
    "  \n",
    "# variable information \n",
    "print(breast_cancer.variables) "
   ]
  },
  {
   "cell_type": "code",
   "execution_count": null,
   "metadata": {},
   "outputs": [],
   "source": []
  }
 ],
 "metadata": {
  "kernelspec": {
   "display_name": "datamining",
   "language": "python",
   "name": "python3"
  },
  "language_info": {
   "codemirror_mode": {
    "name": "ipython",
    "version": 3
   },
   "file_extension": ".py",
   "mimetype": "text/x-python",
   "name": "python",
   "nbconvert_exporter": "python",
   "pygments_lexer": "ipython3",
   "version": "3.10.12"
  }
 },
 "nbformat": 4,
 "nbformat_minor": 2
}
