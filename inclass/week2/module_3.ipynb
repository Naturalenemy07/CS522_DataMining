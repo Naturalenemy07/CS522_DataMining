{
  "cells": [
    {
      "cell_type": "markdown",
      "metadata": {
        "colab_type": "text",
        "id": "view-in-github"
      },
      "source": [
        "<a href=\"https://colab.research.google.com/github/OpenCV13/dm/blob/main/module_3.ipynb\" target=\"_parent\"><img src=\"https://colab.research.google.com/assets/colab-badge.svg\" alt=\"Open In Colab\"/></a>"
      ]
    },
    {
      "cell_type": "markdown",
      "metadata": {
        "id": "WIVXc6MvxdTG"
      },
      "source": [
        "# Module 3: Data Exploration\n",
        "\n",
        "The following tutorial contains examples of Python code for data exploration. You should refer to the \"Data Exploration\" chapter of the \"Introduction to Data Mining\" book (available at https://www-users.cs.umn.edu/~kumar001/dmbook/index.php) to understand some of the concepts introduced in this tutorial notebook. The notebook can be downloaded from http://www.cse.msu.edu/~ptan/dmbook/tutorials/tutorial3/tutorial3.ipynb.\n",
        "\n",
        "Data exploration refers to the preliminary investigation of data in order\n",
        "to better understand its specific characteristics. There are two key motivations for data exploration:\n",
        "1. To help users select the appropriate preprocessing and data analysis technique used.\n",
        "2. To make use of humans’ abilities to recognize patterns in the data.\n",
        "\n",
        "Read the step-by-step instructions below carefully. To execute the code, click on the cell and press the SHIFT-ENTER keys simultaneously."
      ]
    },
    {
      "cell_type": "markdown",
      "metadata": {
        "id": "0BNhEUR7xdTN"
      },
      "source": [
        "## 3.1. Summary Statistics\n",
        "\n",
        "Summary statistics are quantities, such as the mean and standard deviation, that capture various characteristics of a potentially large set of values with a single number or a small set of numbers. In this tutorial, we will use the Iris sample data, which contains information on 150 Iris flowers, 50 each from one of three Iris species: Setosa, Versicolour, and Virginica. Each flower is characterized by five attributes:\n",
        "\n",
        "- sepal length in centimeters\n",
        "\n",
        "- sepal width in centimeters\n",
        "\n",
        "- petal length in centimeters\n",
        "\n",
        "- petal width in centimeters\n",
        "\n",
        "- class (Setosa, Versicolour, Virginica)\n",
        "\n",
        "In this tutorial, you will learn how to:\n",
        "\n",
        "- Load a CSV data file into a Pandas DataFrame object.\n",
        "\n",
        "- Compute various summary statistics from the DataFrame.\n",
        "\n",
        "To execute the sample program shown here, make sure you have installed the Pandas library (see Module 2)."
      ]
    },
    {
      "cell_type": "markdown",
      "metadata": {
        "id": "RLy6o_vDxdTO"
      },
      "source": [
        "**1.** First, you need to download the <a href=\"http://archive.ics.uci.edu/ml/datasets/Iris\">Iris dataset</a> from the UCI machine learning repository.\n",
        "\n",
        "**<font color='red'>Code:</font>** The following code uses Pandas to read the CSV file and store them in a DataFrame object named data. Next, it will display the first five rows of the data frame."
      ]
    },
    {
      "cell_type": "code",
      "execution_count": 3,
      "metadata": {
        "colab": {
          "base_uri": "https://localhost:8080/",
          "height": 206
        },
        "id": "fiXdyVilxdTP",
        "outputId": "4ec05ec3-0996-4d38-dfe8-61259bcec419"
      },
      "outputs": [
        {
          "data": {
            "text/html": [
              "<div>\n",
              "<style scoped>\n",
              "    .dataframe tbody tr th:only-of-type {\n",
              "        vertical-align: middle;\n",
              "    }\n",
              "\n",
              "    .dataframe tbody tr th {\n",
              "        vertical-align: top;\n",
              "    }\n",
              "\n",
              "    .dataframe thead th {\n",
              "        text-align: right;\n",
              "    }\n",
              "</style>\n",
              "<table border=\"1\" class=\"dataframe\">\n",
              "  <thead>\n",
              "    <tr style=\"text-align: right;\">\n",
              "      <th></th>\n",
              "      <th>sepal length</th>\n",
              "      <th>sepal width</th>\n",
              "      <th>petal length</th>\n",
              "      <th>petal width</th>\n",
              "      <th>class</th>\n",
              "    </tr>\n",
              "  </thead>\n",
              "  <tbody>\n",
              "    <tr>\n",
              "      <th>0</th>\n",
              "      <td>5.1</td>\n",
              "      <td>3.5</td>\n",
              "      <td>1.4</td>\n",
              "      <td>0.2</td>\n",
              "      <td>Iris-setosa</td>\n",
              "    </tr>\n",
              "    <tr>\n",
              "      <th>1</th>\n",
              "      <td>4.9</td>\n",
              "      <td>3.0</td>\n",
              "      <td>1.4</td>\n",
              "      <td>0.2</td>\n",
              "      <td>Iris-setosa</td>\n",
              "    </tr>\n",
              "    <tr>\n",
              "      <th>2</th>\n",
              "      <td>4.7</td>\n",
              "      <td>3.2</td>\n",
              "      <td>1.3</td>\n",
              "      <td>0.2</td>\n",
              "      <td>Iris-setosa</td>\n",
              "    </tr>\n",
              "    <tr>\n",
              "      <th>3</th>\n",
              "      <td>4.6</td>\n",
              "      <td>3.1</td>\n",
              "      <td>1.5</td>\n",
              "      <td>0.2</td>\n",
              "      <td>Iris-setosa</td>\n",
              "    </tr>\n",
              "    <tr>\n",
              "      <th>4</th>\n",
              "      <td>5.0</td>\n",
              "      <td>3.6</td>\n",
              "      <td>1.4</td>\n",
              "      <td>0.2</td>\n",
              "      <td>Iris-setosa</td>\n",
              "    </tr>\n",
              "  </tbody>\n",
              "</table>\n",
              "</div>"
            ],
            "text/plain": [
              "   sepal length  sepal width  petal length  petal width        class\n",
              "0           5.1          3.5           1.4          0.2  Iris-setosa\n",
              "1           4.9          3.0           1.4          0.2  Iris-setosa\n",
              "2           4.7          3.2           1.3          0.2  Iris-setosa\n",
              "3           4.6          3.1           1.5          0.2  Iris-setosa\n",
              "4           5.0          3.6           1.4          0.2  Iris-setosa"
            ]
          },
          "execution_count": 3,
          "metadata": {},
          "output_type": "execute_result"
        }
      ],
      "source": [
        "import pandas as pd\n",
        "\n",
        "data = pd.read_csv('http://archive.ics.uci.edu/ml/machine-learning-databases/iris/iris.data',header=None)\n",
        "data.columns = ['sepal length', 'sepal width', 'petal length', 'petal width', 'class']\n",
        "\n",
        "data.head()"
      ]
    },
    {
      "cell_type": "markdown",
      "metadata": {
        "id": "KVwTOO_QxdTR"
      },
      "source": [
        "**2.** For each quantitative attribute, calculate its average, standard deviation, minimum, and maximum values.\n",
        "\n",
        "**<font color=\"red\">Code:</font>**"
      ]
    },
    {
      "cell_type": "code",
      "execution_count": 20,
      "metadata": {
        "colab": {
          "base_uri": "https://localhost:8080/"
        },
        "id": "0Fia1wWoxdTS",
        "outputId": "a1add7d7-cf1a-44fe-d21e-3a8987bfaa6d"
      },
      "outputs": [
        {
          "name": "stdout",
          "output_type": "stream",
          "text": [
            "sepal length:\n",
            "\t Mean: 5.84\n",
            "\t Standard Deviation: 0.83\n",
            "\t Minimum: 4.30\n",
            "\t Maximum: 7.90\n",
            "sepal width:\n",
            "\t Mean: 3.05\n",
            "\t Standard Deviation: 0.43\n",
            "\t Minimum: 2.00\n",
            "\t Maximum: 4.40\n",
            "petal length:\n",
            "\t Mean: 3.76\n",
            "\t Standard Deviation: 1.76\n",
            "\t Minimum: 1.00\n",
            "\t Maximum: 6.90\n",
            "petal width:\n",
            "\t Mean: 1.20\n",
            "\t Standard Deviation: 0.76\n",
            "\t Minimum: 0.10\n",
            "\t Maximum: 2.50\n"
          ]
        }
      ],
      "source": [
        "from pandas.api.types import is_numeric_dtype\n",
        "\n",
        "# for col in data.columns:\n",
        "#     if is_numeric_dtype(data[col]):\n",
        "#         print('%s:' % (col))\n",
        "#         print('\\t Mean = %.2f' % data[col].mean())\n",
        "#         print('\\t Standard deviation = %.2f' % data[col].std())\n",
        "#         print('\\t Minimum = %.2f' % data[col].min())\n",
        "#         print('\\t Maximum = %.2f' % data[col].max())\n",
        "\n",
        "# print(data['sepal length'].dtype)\n",
        "\n",
        "for column in data.columns:\n",
        "    # checks to see if that data type in the column is numeric\n",
        "    if is_numeric_dtype(data[column]):\n",
        "        print('%s:' % (column))\n",
        "        print('\\t Mean: %.2f' % data[column].mean())\n",
        "        print('\\t Standard Deviation: %.2f' % data[column].std())\n",
        "        print('\\t Minimum: %.2f' % data[column].min())\n",
        "        print('\\t Maximum: %.2f' % data[column].max())"
      ]
    },
    {
      "cell_type": "markdown",
      "metadata": {
        "id": "69MjqGfWxdTT"
      },
      "source": [
        "**3.** For the qualitative attribute (class), count the frequency for each of its distinct values.\n",
        "\n",
        "**<font color=\"red\">Code:</font>**"
      ]
    },
    {
      "cell_type": "code",
      "execution_count": 26,
      "metadata": {
        "colab": {
          "base_uri": "https://localhost:8080/"
        },
        "id": "cZlxeGe3xdTT",
        "outputId": "57df2416-1321-440f-b950-333eebdcc3fa"
      },
      "outputs": [
        {
          "data": {
            "text/plain": [
              "class\n",
              "Iris-setosa        50\n",
              "Iris-versicolor    50\n",
              "Iris-virginica     50\n",
              "Name: count, dtype: int64"
            ]
          },
          "execution_count": 26,
          "metadata": {},
          "output_type": "execute_result"
        }
      ],
      "source": [
        "data['class'].value_counts()\n",
        "# data['petal length'].value_counts()\n",
        "# data['petal width'].value_counts()\n",
        "# data['sepal length'].value_counts()\n"
      ]
    },
    {
      "cell_type": "markdown",
      "metadata": {
        "id": "km-G9CuexdTU"
      },
      "source": [
        "**4.** It is also possible to display the summary for all the attributes simultaneously in a table using the describe() function. If an attribute is quantitative, it will display its mean, standard deviation and various quantiles (including minimum, median, and maximum) values. If an attribute is qualitative, it will display its number of unique values and the top (most frequent) values.\n",
        "\n",
        "**<font color=\"red\">Code:</font>**"
      ]
    },
    {
      "cell_type": "code",
      "execution_count": 30,
      "metadata": {
        "colab": {
          "base_uri": "https://localhost:8080/",
          "height": 394
        },
        "id": "5f_r1yyqxdTV",
        "outputId": "f324f800-a668-4aae-d0b6-bfd7557a038b"
      },
      "outputs": [
        {
          "data": {
            "text/html": [
              "<div>\n",
              "<style scoped>\n",
              "    .dataframe tbody tr th:only-of-type {\n",
              "        vertical-align: middle;\n",
              "    }\n",
              "\n",
              "    .dataframe tbody tr th {\n",
              "        vertical-align: top;\n",
              "    }\n",
              "\n",
              "    .dataframe thead th {\n",
              "        text-align: right;\n",
              "    }\n",
              "</style>\n",
              "<table border=\"1\" class=\"dataframe\">\n",
              "  <thead>\n",
              "    <tr style=\"text-align: right;\">\n",
              "      <th></th>\n",
              "      <th>sepal length</th>\n",
              "      <th>sepal width</th>\n",
              "      <th>petal length</th>\n",
              "      <th>petal width</th>\n",
              "      <th>class</th>\n",
              "    </tr>\n",
              "  </thead>\n",
              "  <tbody>\n",
              "    <tr>\n",
              "      <th>count</th>\n",
              "      <td>150.000000</td>\n",
              "      <td>150.000000</td>\n",
              "      <td>150.000000</td>\n",
              "      <td>150.000000</td>\n",
              "      <td>150</td>\n",
              "    </tr>\n",
              "    <tr>\n",
              "      <th>unique</th>\n",
              "      <td>NaN</td>\n",
              "      <td>NaN</td>\n",
              "      <td>NaN</td>\n",
              "      <td>NaN</td>\n",
              "      <td>3</td>\n",
              "    </tr>\n",
              "    <tr>\n",
              "      <th>top</th>\n",
              "      <td>NaN</td>\n",
              "      <td>NaN</td>\n",
              "      <td>NaN</td>\n",
              "      <td>NaN</td>\n",
              "      <td>Iris-setosa</td>\n",
              "    </tr>\n",
              "    <tr>\n",
              "      <th>freq</th>\n",
              "      <td>NaN</td>\n",
              "      <td>NaN</td>\n",
              "      <td>NaN</td>\n",
              "      <td>NaN</td>\n",
              "      <td>50</td>\n",
              "    </tr>\n",
              "    <tr>\n",
              "      <th>mean</th>\n",
              "      <td>5.843333</td>\n",
              "      <td>3.054000</td>\n",
              "      <td>3.758667</td>\n",
              "      <td>1.198667</td>\n",
              "      <td>NaN</td>\n",
              "    </tr>\n",
              "    <tr>\n",
              "      <th>std</th>\n",
              "      <td>0.828066</td>\n",
              "      <td>0.433594</td>\n",
              "      <td>1.764420</td>\n",
              "      <td>0.763161</td>\n",
              "      <td>NaN</td>\n",
              "    </tr>\n",
              "    <tr>\n",
              "      <th>min</th>\n",
              "      <td>4.300000</td>\n",
              "      <td>2.000000</td>\n",
              "      <td>1.000000</td>\n",
              "      <td>0.100000</td>\n",
              "      <td>NaN</td>\n",
              "    </tr>\n",
              "    <tr>\n",
              "      <th>25%</th>\n",
              "      <td>5.100000</td>\n",
              "      <td>2.800000</td>\n",
              "      <td>1.600000</td>\n",
              "      <td>0.300000</td>\n",
              "      <td>NaN</td>\n",
              "    </tr>\n",
              "    <tr>\n",
              "      <th>50%</th>\n",
              "      <td>5.800000</td>\n",
              "      <td>3.000000</td>\n",
              "      <td>4.350000</td>\n",
              "      <td>1.300000</td>\n",
              "      <td>NaN</td>\n",
              "    </tr>\n",
              "    <tr>\n",
              "      <th>75%</th>\n",
              "      <td>6.400000</td>\n",
              "      <td>3.300000</td>\n",
              "      <td>5.100000</td>\n",
              "      <td>1.800000</td>\n",
              "      <td>NaN</td>\n",
              "    </tr>\n",
              "    <tr>\n",
              "      <th>max</th>\n",
              "      <td>7.900000</td>\n",
              "      <td>4.400000</td>\n",
              "      <td>6.900000</td>\n",
              "      <td>2.500000</td>\n",
              "      <td>NaN</td>\n",
              "    </tr>\n",
              "  </tbody>\n",
              "</table>\n",
              "</div>"
            ],
            "text/plain": [
              "        sepal length  sepal width  petal length  petal width        class\n",
              "count     150.000000   150.000000    150.000000   150.000000          150\n",
              "unique           NaN          NaN           NaN          NaN            3\n",
              "top              NaN          NaN           NaN          NaN  Iris-setosa\n",
              "freq             NaN          NaN           NaN          NaN           50\n",
              "mean        5.843333     3.054000      3.758667     1.198667          NaN\n",
              "std         0.828066     0.433594      1.764420     0.763161          NaN\n",
              "min         4.300000     2.000000      1.000000     0.100000          NaN\n",
              "25%         5.100000     2.800000      1.600000     0.300000          NaN\n",
              "50%         5.800000     3.000000      4.350000     1.300000          NaN\n",
              "75%         6.400000     3.300000      5.100000     1.800000          NaN\n",
              "max         7.900000     4.400000      6.900000     2.500000          NaN"
            ]
          },
          "execution_count": 30,
          "metadata": {},
          "output_type": "execute_result"
        }
      ],
      "source": [
        "data.describe(include='all')"
      ]
    },
    {
      "cell_type": "markdown",
      "metadata": {
        "id": "Ugs2A1SzxdTW"
      },
      "source": [
        "Note that count refers to the number of non-missing values for each attribute."
      ]
    },
    {
      "cell_type": "markdown",
      "metadata": {
        "id": "kcgaxNKPxdTW"
      },
      "source": [
        "**5.** For multivariate statistics, you can compute the covariance and correlation between pairs of attributes.\n",
        "\n",
        "**<font color=\"red\">Code:</font>**"
      ]
    },
    {
      "cell_type": "code",
      "execution_count": 53,
      "metadata": {
        "colab": {
          "base_uri": "https://localhost:8080/",
          "height": 247
        },
        "id": "ntbfGTAvxdTW",
        "outputId": "f848077b-febe-4599-8051-3f8eba9f9b88"
      },
      "outputs": [
        {
          "name": "stdout",
          "output_type": "stream",
          "text": [
            "Covariance:\n"
          ]
        },
        {
          "data": {
            "text/html": [
              "<div>\n",
              "<style scoped>\n",
              "    .dataframe tbody tr th:only-of-type {\n",
              "        vertical-align: middle;\n",
              "    }\n",
              "\n",
              "    .dataframe tbody tr th {\n",
              "        vertical-align: top;\n",
              "    }\n",
              "\n",
              "    .dataframe thead th {\n",
              "        text-align: right;\n",
              "    }\n",
              "</style>\n",
              "<table border=\"1\" class=\"dataframe\">\n",
              "  <thead>\n",
              "    <tr style=\"text-align: right;\">\n",
              "      <th></th>\n",
              "      <th>sepal length</th>\n",
              "      <th>sepal width</th>\n",
              "      <th>petal length</th>\n",
              "      <th>petal width</th>\n",
              "    </tr>\n",
              "  </thead>\n",
              "  <tbody>\n",
              "    <tr>\n",
              "      <th>sepal length</th>\n",
              "      <td>0.685694</td>\n",
              "      <td>-0.039268</td>\n",
              "      <td>1.273682</td>\n",
              "      <td>0.516904</td>\n",
              "    </tr>\n",
              "    <tr>\n",
              "      <th>sepal width</th>\n",
              "      <td>-0.039268</td>\n",
              "      <td>0.188004</td>\n",
              "      <td>-0.321713</td>\n",
              "      <td>-0.117981</td>\n",
              "    </tr>\n",
              "    <tr>\n",
              "      <th>petal length</th>\n",
              "      <td>1.273682</td>\n",
              "      <td>-0.321713</td>\n",
              "      <td>3.113179</td>\n",
              "      <td>1.296387</td>\n",
              "    </tr>\n",
              "    <tr>\n",
              "      <th>petal width</th>\n",
              "      <td>0.516904</td>\n",
              "      <td>-0.117981</td>\n",
              "      <td>1.296387</td>\n",
              "      <td>0.582414</td>\n",
              "    </tr>\n",
              "  </tbody>\n",
              "</table>\n",
              "</div>"
            ],
            "text/plain": [
              "              sepal length  sepal width  petal length  petal width\n",
              "sepal length      0.685694    -0.039268      1.273682     0.516904\n",
              "sepal width      -0.039268     0.188004     -0.321713    -0.117981\n",
              "petal length      1.273682    -0.321713      3.113179     1.296387\n",
              "petal width       0.516904    -0.117981      1.296387     0.582414"
            ]
          },
          "execution_count": 53,
          "metadata": {},
          "output_type": "execute_result"
        }
      ],
      "source": [
        "print('Covariance:')\n",
        "data.cov(numeric_only=True)"
      ]
    },
    {
      "cell_type": "code",
      "execution_count": 50,
      "metadata": {
        "colab": {
          "base_uri": "https://localhost:8080/",
          "height": 247
        },
        "id": "5S8C9VwvxdTX",
        "outputId": "6deae915-0797-4d9d-9ea4-25d46360859e"
      },
      "outputs": [
        {
          "name": "stdout",
          "output_type": "stream",
          "text": [
            "Correlation:\n"
          ]
        },
        {
          "data": {
            "text/html": [
              "<div>\n",
              "<style scoped>\n",
              "    .dataframe tbody tr th:only-of-type {\n",
              "        vertical-align: middle;\n",
              "    }\n",
              "\n",
              "    .dataframe tbody tr th {\n",
              "        vertical-align: top;\n",
              "    }\n",
              "\n",
              "    .dataframe thead th {\n",
              "        text-align: right;\n",
              "    }\n",
              "</style>\n",
              "<table border=\"1\" class=\"dataframe\">\n",
              "  <thead>\n",
              "    <tr style=\"text-align: right;\">\n",
              "      <th></th>\n",
              "      <th>sepal length</th>\n",
              "      <th>sepal width</th>\n",
              "      <th>petal length</th>\n",
              "      <th>petal width</th>\n",
              "    </tr>\n",
              "  </thead>\n",
              "  <tbody>\n",
              "    <tr>\n",
              "      <th>sepal length</th>\n",
              "      <td>1.000000</td>\n",
              "      <td>-0.109369</td>\n",
              "      <td>0.871754</td>\n",
              "      <td>0.817954</td>\n",
              "    </tr>\n",
              "    <tr>\n",
              "      <th>sepal width</th>\n",
              "      <td>-0.109369</td>\n",
              "      <td>1.000000</td>\n",
              "      <td>-0.420516</td>\n",
              "      <td>-0.356544</td>\n",
              "    </tr>\n",
              "    <tr>\n",
              "      <th>petal length</th>\n",
              "      <td>0.871754</td>\n",
              "      <td>-0.420516</td>\n",
              "      <td>1.000000</td>\n",
              "      <td>0.962757</td>\n",
              "    </tr>\n",
              "    <tr>\n",
              "      <th>petal width</th>\n",
              "      <td>0.817954</td>\n",
              "      <td>-0.356544</td>\n",
              "      <td>0.962757</td>\n",
              "      <td>1.000000</td>\n",
              "    </tr>\n",
              "  </tbody>\n",
              "</table>\n",
              "</div>"
            ],
            "text/plain": [
              "              sepal length  sepal width  petal length  petal width\n",
              "sepal length      1.000000    -0.109369      0.871754     0.817954\n",
              "sepal width      -0.109369     1.000000     -0.420516    -0.356544\n",
              "petal length      0.871754    -0.420516      1.000000     0.962757\n",
              "petal width       0.817954    -0.356544      0.962757     1.000000"
            ]
          },
          "execution_count": 50,
          "metadata": {},
          "output_type": "execute_result"
        }
      ],
      "source": [
        "print('Correlation:')\n",
        "data.corr(numeric_only=True)"
      ]
    },
    {
      "cell_type": "markdown",
      "metadata": {
        "id": "GrxcWcZfxdTX"
      },
      "source": [
        "## 3.2. Data Visualization\n",
        "\n",
        "Data visualization is the display of information in a graphic or tabular format. Successful visualization requires that the data (information) be converted into a visual format so that the characteristics of the data and the relationships\n",
        "among data items or attributes can be analyzed or reported.\n",
        "\n",
        "In this tutorial, you will learn how to display the Iris data created in Section 3.1. To execute the sample program shown here, make sure you have installed the matplotlib library package (see Module 0 on how to install Python packages)."
      ]
    },
    {
      "cell_type": "markdown",
      "metadata": {
        "id": "u5Zz3Cu8xdTX"
      },
      "source": [
        "**1.** First, we will display the histogram for the sepal length attribute by discretizing it into 8 separate bins and counting the frequency for each bin.\n",
        "\n",
        "**<font color=\"red\">Code:</font>**"
      ]
    },
    {
      "cell_type": "code",
      "execution_count": 75,
      "metadata": {
        "colab": {
          "base_uri": "https://localhost:8080/",
          "height": 447
        },
        "id": "-UM9-vDLxdTX",
        "outputId": "0b98ee04-38b0-4f6f-8780-7304191cfdbc"
      },
      "outputs": [
        {
          "data": {
            "text/plain": [
              "<Axes: >"
            ]
          },
          "execution_count": 75,
          "metadata": {},
          "output_type": "execute_result"
        },
        {
          "data": {
            "image/png": "[encoded data removed]",
            "text/plain": [
              "<Figure size 640x480 with 1 Axes>"
            ]
          },
          "metadata": {},
          "output_type": "display_data"
        }
      ],
      "source": [
        "%matplotlib inline\n",
        "\n",
        "data['sepal width'].hist(bins=8)"
      ]
    },
    {
      "cell_type": "markdown",
      "metadata": {
        "id": "GJPwInCcxdTY"
      },
      "source": [
        "**2.** A boxplot can also be used to show the distribution of values for each attribute.\n",
        "\n",
        "**<font color=\"red\">Code:</font>**"
      ]
    },
    {
      "cell_type": "code",
      "execution_count": 64,
      "metadata": {
        "colab": {
          "base_uri": "https://localhost:8080/",
          "height": 447
        },
        "id": "bIYyW3PaxdTY",
        "outputId": "cd1e110a-aee2-4ede-edfb-7d6431139661"
      },
      "outputs": [
        {
          "data": {
            "text/plain": [
              "<Axes: >"
            ]
          },
          "execution_count": 64,
          "metadata": {},
          "output_type": "execute_result"
        },
        {
          "data": {
            "image/png": "[encoded data removed]",
            "text/plain": [
              "<Figure size 640x480 with 1 Axes>"
            ]
          },
          "metadata": {},
          "output_type": "display_data"
        }
      ],
      "source": [
        "data.boxplot()"
      ]
    },
    {
      "cell_type": "markdown",
      "metadata": {
        "id": "0qy4-me2xdTY"
      },
      "source": [
        "**3.** For each pair of attributes, we can use a scatter plot to visualize their joint distribution.\n",
        "\n",
        "**<font color=\"red\">Code:</font>**"
      ]
    },
    {
      "cell_type": "code",
      "execution_count": 168,
      "metadata": {
        "colab": {
          "base_uri": "https://localhost:8080/",
          "height": 1000
        },
        "id": "QgOlQHpcxdTY",
        "outputId": "4f0ccc5a-fce3-4bf6-86d8-b34c6f24d056"
      },
      "outputs": [
        {
          "name": "stdout",
          "output_type": "stream",
          "text": [
            "0 0\n",
            "0 1\n",
            "1 0\n",
            "1 1\n",
            "2 0\n",
            "2 1\n"
          ]
        },
        {
          "data": {
            "image/png": "[encoded data removed]",
            "text/plain": [
              "<Figure size 800x1000 with 6 Axes>"
            ]
          },
          "metadata": {},
          "output_type": "display_data"
        }
      ],
      "source": [
        "import matplotlib.pyplot as plt\n",
        "\n",
        "fig, axes = plt.subplots(3, 2, figsize=(8,10))\n",
        "index = 0\n",
        "for i in range(3):\n",
        "    for j in range(i+1,4):\n",
        "        ax1 = int(index/2)\n",
        "        ax2 = index % 2\n",
        "        print(ax1, ax2)\n",
        "        axes[ax1][ax2].scatter(data[data.columns[i]], data[data.columns[j]], color='blue')\n",
        "        axes[ax1][ax2].set_xlabel(data.columns[i])\n",
        "        axes[ax1][ax2].set_ylabel(data.columns[j])\n",
        "        index = index + 1"
      ]
    },
    {
      "cell_type": "markdown",
      "metadata": {
        "id": "MQBQRtxuxdTZ"
      },
      "source": [
        "**4.** Parallel coordinates can be used to display all the data points simultaneously. Parallel coordinates have one coordinate axis for each attribute, but the different axes are parallel to one other instead of perpendicular, as is traditional. Furthermore, an object is represented as a line instead of as a point. In the example below, the distribution of values for each class can be identified in a separate color.\n",
        "\n",
        "**<font color=\"red\">Code:</font>**"
      ]
    },
    {
      "cell_type": "code",
      "execution_count": 76,
      "metadata": {
        "colab": {
          "base_uri": "https://localhost:8080/",
          "height": 447
        },
        "id": "tdwgqRe3xdTZ",
        "outputId": "bd5b4654-48df-40df-c302-8939e4f75f58"
      },
      "outputs": [
        {
          "data": {
            "text/plain": [
              "<Axes: >"
            ]
          },
          "execution_count": 76,
          "metadata": {},
          "output_type": "execute_result"
        },
        {
          "data": {
            "image/png": "[encoded data removed]",
            "text/plain": [
              "<Figure size 640x480 with 1 Axes>"
            ]
          },
          "metadata": {},
          "output_type": "display_data"
        }
      ],
      "source": [
        "from pandas.plotting import parallel_coordinates\n",
        "%matplotlib inline\n",
        "\n",
        "parallel_coordinates(data, 'class')"
      ]
    },
    {
      "cell_type": "markdown",
      "metadata": {
        "id": "Kk5lyiHZxdTZ"
      },
      "source": [
        "## 3.3. Summary\n",
        "\n",
        "This tutorial presents several examples for data exploration and visualization using the Pandas and matplotlib library packages available in Python.\n",
        "\n",
        "**<font color='blue'>References:</font>**\n",
        "\n",
        "1. Documentation on Pandas. https://pandas.pydata.org/\n",
        "2. Documentation on matplotlib. https://matplotlib.org/\n",
        "3. Lichman, M. (2013). UCI Machine Learning Repository [http://archive.ics.uci.edu/ml]. Irvine, CA: University of California, School of Information and Computer Science."
      ]
    },
    {
      "cell_type": "markdown",
      "metadata": {
        "id": "pICS-OjkzxxF"
      },
      "source": [
        "## Homework\n",
        "\n",
        "**Please do not manually look for answers even if you can.**"
      ]
    },
    {
      "cell_type": "code",
      "execution_count": 77,
      "metadata": {
        "id": "QxXwZTt6025Y"
      },
      "outputs": [],
      "source": [
        "# from google.colab import drive\n",
        "# drive.mount('/content/drive')"
      ]
    },
    {
      "cell_type": "code",
      "execution_count": 78,
      "metadata": {
        "id": "AFoUx6bN0svf"
      },
      "outputs": [],
      "source": [
        "import pandas as pd\n",
        "import numpy as np"
      ]
    },
    {
      "cell_type": "code",
      "execution_count": 141,
      "metadata": {
        "colab": {
          "base_uri": "https://localhost:8080/",
          "height": 345
        },
        "id": "Z_QX3bHy0Pe0",
        "outputId": "067253a4-8c2c-498b-a378-f7d7a6a526ec"
      },
      "outputs": [
        {
          "data": {
            "text/html": [
              "<div>\n",
              "<style scoped>\n",
              "    .dataframe tbody tr th:only-of-type {\n",
              "        vertical-align: middle;\n",
              "    }\n",
              "\n",
              "    .dataframe tbody tr th {\n",
              "        vertical-align: top;\n",
              "    }\n",
              "\n",
              "    .dataframe thead th {\n",
              "        text-align: right;\n",
              "    }\n",
              "</style>\n",
              "<table border=\"1\" class=\"dataframe\">\n",
              "  <thead>\n",
              "    <tr style=\"text-align: right;\">\n",
              "      <th></th>\n",
              "      <th>Country</th>\n",
              "      <th>Region</th>\n",
              "      <th>Rank</th>\n",
              "      <th>HappinessScore</th>\n",
              "      <th>Life Ladder</th>\n",
              "      <th>Log GDP per capita</th>\n",
              "      <th>Social support</th>\n",
              "      <th>Healthy life expectancy at birth</th>\n",
              "      <th>Freedom to make life choices</th>\n",
              "      <th>Generosity</th>\n",
              "      <th>Perceptions of corruption</th>\n",
              "      <th>Positive affect</th>\n",
              "      <th>Negative affect</th>\n",
              "      <th>Confidence in national government</th>\n",
              "    </tr>\n",
              "  </thead>\n",
              "  <tbody>\n",
              "    <tr>\n",
              "      <th>0</th>\n",
              "      <td>Norway</td>\n",
              "      <td>Western Europe</td>\n",
              "      <td>1</td>\n",
              "      <td>7.537</td>\n",
              "      <td>7.578745</td>\n",
              "      <td>11.081789</td>\n",
              "      <td>0.950128</td>\n",
              "      <td>71.086586</td>\n",
              "      <td>0.953017</td>\n",
              "      <td>0.210104</td>\n",
              "      <td>0.249711</td>\n",
              "      <td>0.849100</td>\n",
              "      <td>0.202914</td>\n",
              "      <td>0.717160</td>\n",
              "    </tr>\n",
              "    <tr>\n",
              "      <th>1</th>\n",
              "      <td>Denmark</td>\n",
              "      <td>Western Europe</td>\n",
              "      <td>2</td>\n",
              "      <td>7.522</td>\n",
              "      <td>7.593702</td>\n",
              "      <td>10.748989</td>\n",
              "      <td>0.952100</td>\n",
              "      <td>71.662498</td>\n",
              "      <td>0.955416</td>\n",
              "      <td>0.145387</td>\n",
              "      <td>0.181148</td>\n",
              "      <td>0.823667</td>\n",
              "      <td>0.205775</td>\n",
              "      <td>0.572353</td>\n",
              "    </tr>\n",
              "    <tr>\n",
              "      <th>2</th>\n",
              "      <td>Iceland</td>\n",
              "      <td>Western Europe</td>\n",
              "      <td>3</td>\n",
              "      <td>7.504</td>\n",
              "      <td>7.476214</td>\n",
              "      <td>10.760409</td>\n",
              "      <td>0.966753</td>\n",
              "      <td>72.755981</td>\n",
              "      <td>0.938783</td>\n",
              "      <td>0.235479</td>\n",
              "      <td>0.726845</td>\n",
              "      <td>0.895255</td>\n",
              "      <td>0.148160</td>\n",
              "      <td>0.365042</td>\n",
              "    </tr>\n",
              "    <tr>\n",
              "      <th>3</th>\n",
              "      <td>Switzerland</td>\n",
              "      <td>Western Europe</td>\n",
              "      <td>4</td>\n",
              "      <td>7.494</td>\n",
              "      <td>7.473593</td>\n",
              "      <td>10.955548</td>\n",
              "      <td>0.949661</td>\n",
              "      <td>73.173759</td>\n",
              "      <td>0.924997</td>\n",
              "      <td>0.167875</td>\n",
              "      <td>0.316183</td>\n",
              "      <td>0.773997</td>\n",
              "      <td>0.195871</td>\n",
              "      <td>0.819707</td>\n",
              "    </tr>\n",
              "    <tr>\n",
              "      <th>4</th>\n",
              "      <td>Finland</td>\n",
              "      <td>Western Europe</td>\n",
              "      <td>5</td>\n",
              "      <td>7.469</td>\n",
              "      <td>7.788252</td>\n",
              "      <td>10.612338</td>\n",
              "      <td>0.963826</td>\n",
              "      <td>71.696960</td>\n",
              "      <td>0.962199</td>\n",
              "      <td>-0.012174</td>\n",
              "      <td>0.192413</td>\n",
              "      <td>0.787137</td>\n",
              "      <td>0.176066</td>\n",
              "      <td>0.597539</td>\n",
              "    </tr>\n",
              "  </tbody>\n",
              "</table>\n",
              "</div>"
            ],
            "text/plain": [
              "       Country          Region  Rank  HappinessScore  Life Ladder  \\\n",
              "0       Norway  Western Europe     1           7.537     7.578745   \n",
              "1      Denmark  Western Europe     2           7.522     7.593702   \n",
              "2      Iceland  Western Europe     3           7.504     7.476214   \n",
              "3  Switzerland  Western Europe     4           7.494     7.473593   \n",
              "4      Finland  Western Europe     5           7.469     7.788252   \n",
              "\n",
              "   Log GDP per capita  Social support  Healthy life expectancy at birth  \\\n",
              "0           11.081789        0.950128                         71.086586   \n",
              "1           10.748989        0.952100                         71.662498   \n",
              "2           10.760409        0.966753                         72.755981   \n",
              "3           10.955548        0.949661                         73.173759   \n",
              "4           10.612338        0.963826                         71.696960   \n",
              "\n",
              "   Freedom to make life choices  Generosity  Perceptions of corruption  \\\n",
              "0                      0.953017    0.210104                   0.249711   \n",
              "1                      0.955416    0.145387                   0.181148   \n",
              "2                      0.938783    0.235479                   0.726845   \n",
              "3                      0.924997    0.167875                   0.316183   \n",
              "4                      0.962199   -0.012174                   0.192413   \n",
              "\n",
              "   Positive affect  Negative affect  Confidence in national government  \n",
              "0         0.849100         0.202914                           0.717160  \n",
              "1         0.823667         0.205775                           0.572353  \n",
              "2         0.895255         0.148160                           0.365042  \n",
              "3         0.773997         0.195871                           0.819707  \n",
              "4         0.787137         0.176066                           0.597539  "
            ]
          },
          "execution_count": 141,
          "metadata": {},
          "output_type": "execute_result"
        }
      ],
      "source": [
        "happiness_df = pd.read_csv('/home/raven/Documents/CS/CS522_DM/github/CS522_DataMining/inclass/week2/happiness_2017.csv')\n",
        "happiness_df.head()"
      ]
    },
    {
      "cell_type": "code",
      "execution_count": 83,
      "metadata": {
        "colab": {
          "base_uri": "https://localhost:8080/"
        },
        "id": "HT-lbqoG1I70",
        "outputId": "469624c0-6514-4dbe-c78e-d90aadae3081"
      },
      "outputs": [
        {
          "name": "stdout",
          "output_type": "stream",
          "text": [
            "(140, 14)\n"
          ]
        },
        {
          "data": {
            "text/plain": [
              "Index(['Country', 'Region', 'Rank', 'HappinessScore', 'Life Ladder',\n",
              "       'Log GDP per capita', 'Social support',\n",
              "       'Healthy life expectancy at birth', 'Freedom to make life choices',\n",
              "       'Generosity', 'Perceptions of corruption', 'Positive affect',\n",
              "       'Negative affect', 'Confidence in national government'],\n",
              "      dtype='object')"
            ]
          },
          "execution_count": 83,
          "metadata": {},
          "output_type": "execute_result"
        }
      ],
      "source": [
        "print(happiness_df.shape)\n",
        "happiness_df.columns"
      ]
    },
    {
      "cell_type": "markdown",
      "metadata": {
        "id": "dHptJL4W0HVO"
      },
      "source": [
        "### Q-1: Calculating the average, standard deviation, maximum, mininum, median of happiness scores.  \n",
        "Your solution should only show these statistics for happiness scores."
      ]
    },
    {
      "cell_type": "code",
      "execution_count": 148,
      "metadata": {
        "id": "7roeQHV014zo"
      },
      "outputs": [
        {
          "name": "stdout",
          "output_type": "stream",
          "text": [
            "Average: 5.40\n",
            "Standard Deviation: 1.11\n",
            "Maximum: 7.54\n",
            "Minimum: 2.69\n",
            "Median: 5.30\n"
          ]
        }
      ],
      "source": [
        "print('Average: %.2f' % happiness_df['HappinessScore'].mean())\n",
        "print('Standard Deviation: %.2f' % happiness_df['HappinessScore'].std())\n",
        "print('Maximum: %.2f' % happiness_df['HappinessScore'].max())\n",
        "print('Minimum: %.2f' % happiness_df['HappinessScore'].min())\n",
        "print('Median: %.2f' % happiness_df['HappinessScore'].median())"
      ]
    },
    {
      "cell_type": "markdown",
      "metadata": {
        "id": "kQW4rupJ1jrK"
      },
      "source": [
        "### Q-2: What is the name and happiness score of the country with the lowest confidence in their national government?"
      ]
    },
    {
      "cell_type": "code",
      "execution_count": 147,
      "metadata": {
        "id": "TSZL1JPq2Hy9"
      },
      "outputs": [
        {
          "name": "stdout",
          "output_type": "stream",
          "text": [
            "Ukraine: 4.096\n"
          ]
        }
      ],
      "source": [
        "lowestconfidence = happiness_df[happiness_df['Confidence in national government'] == happiness_df['Confidence in national government'].min()]\n",
        "print('%s: %.3f' % (lowestconfidence.iloc[0].Country,lowestconfidence.iloc[0].HappinessScore))\n"
      ]
    },
    {
      "cell_type": "markdown",
      "metadata": {
        "id": "iHj7cjhA1zM6"
      },
      "source": [
        "### Q-3 How many countries are in Western Europe?\n",
        "This will be very easy with grouping function, but you can still do it without it"
      ]
    },
    {
      "cell_type": "code",
      "execution_count": 154,
      "metadata": {
        "id": "GvtUPGyD2Kt7"
      },
      "outputs": [
        {
          "data": {
            "text/plain": [
              "20"
            ]
          },
          "execution_count": 154,
          "metadata": {},
          "output_type": "execute_result"
        }
      ],
      "source": [
        "happiness_df.loc[happiness_df.Region == \"Western Europe\"].shape[0]"
      ]
    },
    {
      "cell_type": "markdown",
      "metadata": {
        "id": "aQEeAjeb4mtR"
      },
      "source": [
        "### Q-4: Which two factors have the largest positive correlation and Which two factors have the largest negative correlation?\n"
      ]
    },
    {
      "cell_type": "code",
      "execution_count": 275,
      "metadata": {},
      "outputs": [
        {
          "name": "stdout",
          "output_type": "stream",
          "text": [
            "Largest positive correlation: \"HappinessScore\":\"Life Ladder\" at 0.9305\n",
            "Largest negative correlation: \"Rank\":\"HappinessScore\" at -0.9930\n"
          ]
        }
      ],
      "source": [
        "%matplotlib inline\n",
        "\n",
        "# build dataframe of the correlations containing only the columns with numerical data\n",
        "happiness_df_num = happiness_df.corr(numeric_only=True)\n",
        "happiness_df_num\n",
        "\n",
        "# fill diagonal with NaN since I am not interested in a attribute's correlation with itself\n",
        "np.fill_diagonal(happiness_df_num.values, \"NaN\")\n",
        "# happiness_df_num\n",
        "\n",
        "# column and row containing largest positive correlation\n",
        "max_column = happiness_df_num.max().idxmax()\n",
        "max_row = happiness_df_num[max_column].idxmax()\n",
        "\n",
        "# column and row containing largest negative correlation\n",
        "min_column = happiness_df_num.min().idxmin()\n",
        "min_row = happiness_df_num[min_column].idxmin()\n",
        "\n",
        "print('Largest positive correlation: \"%s\":\"%s\" at %.4f' % (max_column, max_row, happiness_df_num.max().max()))\n",
        "print('Largest negative correlation: \"%s\":\"%s\" at %.4f' % (min_column, min_row, happiness_df_num.min().min()))\n",
        "\n"
      ]
    },
    {
      "cell_type": "markdown",
      "metadata": {
        "id": "uwLBkvZK2IzH"
      },
      "source": [
        "## Merging data\n",
        "Let's load the world poulation data."
      ]
    },
    {
      "cell_type": "code",
      "execution_count": 278,
      "metadata": {
        "colab": {
          "base_uri": "https://localhost:8080/",
          "height": 377
        },
        "id": "6j39tVrK2mLl",
        "outputId": "03d90471-03ad-4731-fcba-7dcdfa927a99"
      },
      "outputs": [
        {
          "data": {
            "text/html": [
              "<div>\n",
              "<style scoped>\n",
              "    .dataframe tbody tr th:only-of-type {\n",
              "        vertical-align: middle;\n",
              "    }\n",
              "\n",
              "    .dataframe tbody tr th {\n",
              "        vertical-align: top;\n",
              "    }\n",
              "\n",
              "    .dataframe thead th {\n",
              "        text-align: right;\n",
              "    }\n",
              "</style>\n",
              "<table border=\"1\" class=\"dataframe\">\n",
              "  <thead>\n",
              "    <tr style=\"text-align: right;\">\n",
              "      <th></th>\n",
              "      <th>Country</th>\n",
              "      <th>Code</th>\n",
              "      <th>Region</th>\n",
              "      <th>Population</th>\n",
              "      <th>Area</th>\n",
              "      <th>Pop. Density</th>\n",
              "      <th>Coastline</th>\n",
              "      <th>Net migration</th>\n",
              "      <th>Infant mortality</th>\n",
              "      <th>GDP</th>\n",
              "      <th>...</th>\n",
              "      <th>Phones</th>\n",
              "      <th>Arable</th>\n",
              "      <th>Crops</th>\n",
              "      <th>Other</th>\n",
              "      <th>Climate</th>\n",
              "      <th>Birthrate</th>\n",
              "      <th>Deathrate</th>\n",
              "      <th>Agriculture</th>\n",
              "      <th>Industry</th>\n",
              "      <th>Service</th>\n",
              "    </tr>\n",
              "  </thead>\n",
              "  <tbody>\n",
              "    <tr>\n",
              "      <th>0</th>\n",
              "      <td>Afghanistan</td>\n",
              "      <td>AFG</td>\n",
              "      <td>ASIA (EX. NEAR EAST)</td>\n",
              "      <td>31056997</td>\n",
              "      <td>647500</td>\n",
              "      <td>48.0</td>\n",
              "      <td>0.00</td>\n",
              "      <td>23.06</td>\n",
              "      <td>163.07</td>\n",
              "      <td>700.0</td>\n",
              "      <td>...</td>\n",
              "      <td>3.2</td>\n",
              "      <td>12.13</td>\n",
              "      <td>0.22</td>\n",
              "      <td>87.65</td>\n",
              "      <td>1.0</td>\n",
              "      <td>46.60</td>\n",
              "      <td>20.34</td>\n",
              "      <td>0.380</td>\n",
              "      <td>0.240</td>\n",
              "      <td>0.380</td>\n",
              "    </tr>\n",
              "    <tr>\n",
              "      <th>1</th>\n",
              "      <td>Albania</td>\n",
              "      <td>ALB</td>\n",
              "      <td>EASTERN EUROPE</td>\n",
              "      <td>3581655</td>\n",
              "      <td>28748</td>\n",
              "      <td>124.6</td>\n",
              "      <td>1.26</td>\n",
              "      <td>-4.93</td>\n",
              "      <td>21.52</td>\n",
              "      <td>4500.0</td>\n",
              "      <td>...</td>\n",
              "      <td>71.2</td>\n",
              "      <td>21.09</td>\n",
              "      <td>4.42</td>\n",
              "      <td>74.49</td>\n",
              "      <td>3.0</td>\n",
              "      <td>15.11</td>\n",
              "      <td>5.22</td>\n",
              "      <td>0.232</td>\n",
              "      <td>0.188</td>\n",
              "      <td>0.579</td>\n",
              "    </tr>\n",
              "    <tr>\n",
              "      <th>2</th>\n",
              "      <td>Algeria</td>\n",
              "      <td>DZA</td>\n",
              "      <td>NORTHERN AFRICA</td>\n",
              "      <td>32930091</td>\n",
              "      <td>2381740</td>\n",
              "      <td>13.8</td>\n",
              "      <td>0.04</td>\n",
              "      <td>-0.39</td>\n",
              "      <td>31.00</td>\n",
              "      <td>6000.0</td>\n",
              "      <td>...</td>\n",
              "      <td>78.1</td>\n",
              "      <td>3.22</td>\n",
              "      <td>0.25</td>\n",
              "      <td>96.53</td>\n",
              "      <td>1.0</td>\n",
              "      <td>17.14</td>\n",
              "      <td>4.61</td>\n",
              "      <td>0.101</td>\n",
              "      <td>0.600</td>\n",
              "      <td>0.298</td>\n",
              "    </tr>\n",
              "    <tr>\n",
              "      <th>3</th>\n",
              "      <td>American Samoa</td>\n",
              "      <td>ASM</td>\n",
              "      <td>OCEANIA</td>\n",
              "      <td>57794</td>\n",
              "      <td>199</td>\n",
              "      <td>290.4</td>\n",
              "      <td>58.29</td>\n",
              "      <td>-20.71</td>\n",
              "      <td>9.27</td>\n",
              "      <td>8000.0</td>\n",
              "      <td>...</td>\n",
              "      <td>259.5</td>\n",
              "      <td>10.00</td>\n",
              "      <td>15.00</td>\n",
              "      <td>75.00</td>\n",
              "      <td>2.0</td>\n",
              "      <td>22.46</td>\n",
              "      <td>3.27</td>\n",
              "      <td>NaN</td>\n",
              "      <td>NaN</td>\n",
              "      <td>NaN</td>\n",
              "    </tr>\n",
              "    <tr>\n",
              "      <th>4</th>\n",
              "      <td>Andorra</td>\n",
              "      <td>AND</td>\n",
              "      <td>WESTERN EUROPE</td>\n",
              "      <td>71201</td>\n",
              "      <td>468</td>\n",
              "      <td>152.1</td>\n",
              "      <td>0.00</td>\n",
              "      <td>6.60</td>\n",
              "      <td>4.05</td>\n",
              "      <td>19000.0</td>\n",
              "      <td>...</td>\n",
              "      <td>497.2</td>\n",
              "      <td>2.22</td>\n",
              "      <td>0.00</td>\n",
              "      <td>97.78</td>\n",
              "      <td>3.0</td>\n",
              "      <td>8.71</td>\n",
              "      <td>6.25</td>\n",
              "      <td>NaN</td>\n",
              "      <td>NaN</td>\n",
              "      <td>NaN</td>\n",
              "    </tr>\n",
              "    <tr>\n",
              "      <th>...</th>\n",
              "      <td>...</td>\n",
              "      <td>...</td>\n",
              "      <td>...</td>\n",
              "      <td>...</td>\n",
              "      <td>...</td>\n",
              "      <td>...</td>\n",
              "      <td>...</td>\n",
              "      <td>...</td>\n",
              "      <td>...</td>\n",
              "      <td>...</td>\n",
              "      <td>...</td>\n",
              "      <td>...</td>\n",
              "      <td>...</td>\n",
              "      <td>...</td>\n",
              "      <td>...</td>\n",
              "      <td>...</td>\n",
              "      <td>...</td>\n",
              "      <td>...</td>\n",
              "      <td>...</td>\n",
              "      <td>...</td>\n",
              "      <td>...</td>\n",
              "    </tr>\n",
              "    <tr>\n",
              "      <th>219</th>\n",
              "      <td>Wallis and Futuna</td>\n",
              "      <td>WLF</td>\n",
              "      <td>OCEANIA</td>\n",
              "      <td>16025</td>\n",
              "      <td>274</td>\n",
              "      <td>58.5</td>\n",
              "      <td>47.08</td>\n",
              "      <td>NaN</td>\n",
              "      <td>NaN</td>\n",
              "      <td>3700.0</td>\n",
              "      <td>...</td>\n",
              "      <td>118.6</td>\n",
              "      <td>5.00</td>\n",
              "      <td>25.00</td>\n",
              "      <td>70.00</td>\n",
              "      <td>2.0</td>\n",
              "      <td>NaN</td>\n",
              "      <td>NaN</td>\n",
              "      <td>NaN</td>\n",
              "      <td>NaN</td>\n",
              "      <td>NaN</td>\n",
              "    </tr>\n",
              "    <tr>\n",
              "      <th>220</th>\n",
              "      <td>Western Sahara</td>\n",
              "      <td>ESH</td>\n",
              "      <td>NORTHERN AFRICA</td>\n",
              "      <td>273008</td>\n",
              "      <td>266000</td>\n",
              "      <td>1.0</td>\n",
              "      <td>0.42</td>\n",
              "      <td>NaN</td>\n",
              "      <td>NaN</td>\n",
              "      <td>NaN</td>\n",
              "      <td>...</td>\n",
              "      <td>NaN</td>\n",
              "      <td>0.02</td>\n",
              "      <td>0.00</td>\n",
              "      <td>99.98</td>\n",
              "      <td>1.0</td>\n",
              "      <td>NaN</td>\n",
              "      <td>NaN</td>\n",
              "      <td>NaN</td>\n",
              "      <td>NaN</td>\n",
              "      <td>0.400</td>\n",
              "    </tr>\n",
              "    <tr>\n",
              "      <th>221</th>\n",
              "      <td>Yemen</td>\n",
              "      <td>YEM</td>\n",
              "      <td>NEAR EAST</td>\n",
              "      <td>21456188</td>\n",
              "      <td>527970</td>\n",
              "      <td>40.6</td>\n",
              "      <td>0.36</td>\n",
              "      <td>0.00</td>\n",
              "      <td>61.50</td>\n",
              "      <td>800.0</td>\n",
              "      <td>...</td>\n",
              "      <td>37.2</td>\n",
              "      <td>2.78</td>\n",
              "      <td>0.24</td>\n",
              "      <td>96.98</td>\n",
              "      <td>1.0</td>\n",
              "      <td>42.89</td>\n",
              "      <td>8.30</td>\n",
              "      <td>0.135</td>\n",
              "      <td>0.472</td>\n",
              "      <td>0.393</td>\n",
              "    </tr>\n",
              "    <tr>\n",
              "      <th>222</th>\n",
              "      <td>Zambia</td>\n",
              "      <td>ZMB</td>\n",
              "      <td>SUB-SAHARAN AFRICA</td>\n",
              "      <td>11502010</td>\n",
              "      <td>752614</td>\n",
              "      <td>15.3</td>\n",
              "      <td>0.00</td>\n",
              "      <td>0.00</td>\n",
              "      <td>88.29</td>\n",
              "      <td>800.0</td>\n",
              "      <td>...</td>\n",
              "      <td>8.2</td>\n",
              "      <td>7.08</td>\n",
              "      <td>0.03</td>\n",
              "      <td>92.90</td>\n",
              "      <td>2.0</td>\n",
              "      <td>41.00</td>\n",
              "      <td>19.93</td>\n",
              "      <td>0.220</td>\n",
              "      <td>0.290</td>\n",
              "      <td>0.489</td>\n",
              "    </tr>\n",
              "    <tr>\n",
              "      <th>223</th>\n",
              "      <td>Zimbabwe</td>\n",
              "      <td>ZWE</td>\n",
              "      <td>SUB-SAHARAN AFRICA</td>\n",
              "      <td>12236805</td>\n",
              "      <td>390580</td>\n",
              "      <td>31.3</td>\n",
              "      <td>0.00</td>\n",
              "      <td>0.00</td>\n",
              "      <td>67.69</td>\n",
              "      <td>1900.0</td>\n",
              "      <td>...</td>\n",
              "      <td>26.8</td>\n",
              "      <td>8.32</td>\n",
              "      <td>0.34</td>\n",
              "      <td>91.34</td>\n",
              "      <td>2.0</td>\n",
              "      <td>28.01</td>\n",
              "      <td>21.84</td>\n",
              "      <td>0.179</td>\n",
              "      <td>0.243</td>\n",
              "      <td>0.579</td>\n",
              "    </tr>\n",
              "  </tbody>\n",
              "</table>\n",
              "<p>224 rows × 21 columns</p>\n",
              "</div>"
            ],
            "text/plain": [
              "               Country Code                Region  Population     Area  \\\n",
              "0          Afghanistan  AFG  ASIA (EX. NEAR EAST)    31056997   647500   \n",
              "1              Albania  ALB        EASTERN EUROPE     3581655    28748   \n",
              "2              Algeria  DZA       NORTHERN AFRICA    32930091  2381740   \n",
              "3       American Samoa  ASM               OCEANIA       57794      199   \n",
              "4              Andorra  AND        WESTERN EUROPE       71201      468   \n",
              "..                 ...  ...                   ...         ...      ...   \n",
              "219  Wallis and Futuna  WLF               OCEANIA       16025      274   \n",
              "220     Western Sahara  ESH       NORTHERN AFRICA      273008   266000   \n",
              "221              Yemen  YEM             NEAR EAST    21456188   527970   \n",
              "222             Zambia  ZMB    SUB-SAHARAN AFRICA    11502010   752614   \n",
              "223           Zimbabwe  ZWE    SUB-SAHARAN AFRICA    12236805   390580   \n",
              "\n",
              "     Pop. Density  Coastline  Net migration  Infant mortality      GDP  ...  \\\n",
              "0            48.0       0.00          23.06            163.07    700.0  ...   \n",
              "1           124.6       1.26          -4.93             21.52   4500.0  ...   \n",
              "2            13.8       0.04          -0.39             31.00   6000.0  ...   \n",
              "3           290.4      58.29         -20.71              9.27   8000.0  ...   \n",
              "4           152.1       0.00           6.60              4.05  19000.0  ...   \n",
              "..            ...        ...            ...               ...      ...  ...   \n",
              "219          58.5      47.08            NaN               NaN   3700.0  ...   \n",
              "220           1.0       0.42            NaN               NaN      NaN  ...   \n",
              "221          40.6       0.36           0.00             61.50    800.0  ...   \n",
              "222          15.3       0.00           0.00             88.29    800.0  ...   \n",
              "223          31.3       0.00           0.00             67.69   1900.0  ...   \n",
              "\n",
              "     Phones  Arable  Crops  Other  Climate  Birthrate  Deathrate  Agriculture  \\\n",
              "0       3.2   12.13   0.22  87.65      1.0      46.60      20.34        0.380   \n",
              "1      71.2   21.09   4.42  74.49      3.0      15.11       5.22        0.232   \n",
              "2      78.1    3.22   0.25  96.53      1.0      17.14       4.61        0.101   \n",
              "3     259.5   10.00  15.00  75.00      2.0      22.46       3.27          NaN   \n",
              "4     497.2    2.22   0.00  97.78      3.0       8.71       6.25          NaN   \n",
              "..      ...     ...    ...    ...      ...        ...        ...          ...   \n",
              "219   118.6    5.00  25.00  70.00      2.0        NaN        NaN          NaN   \n",
              "220     NaN    0.02   0.00  99.98      1.0        NaN        NaN          NaN   \n",
              "221    37.2    2.78   0.24  96.98      1.0      42.89       8.30        0.135   \n",
              "222     8.2    7.08   0.03  92.90      2.0      41.00      19.93        0.220   \n",
              "223    26.8    8.32   0.34  91.34      2.0      28.01      21.84        0.179   \n",
              "\n",
              "     Industry  Service  \n",
              "0       0.240    0.380  \n",
              "1       0.188    0.579  \n",
              "2       0.600    0.298  \n",
              "3         NaN      NaN  \n",
              "4         NaN      NaN  \n",
              "..        ...      ...  \n",
              "219       NaN      NaN  \n",
              "220       NaN    0.400  \n",
              "221     0.472    0.393  \n",
              "222     0.290    0.489  \n",
              "223     0.243    0.579  \n",
              "\n",
              "[224 rows x 21 columns]"
            ]
          },
          "execution_count": 278,
          "metadata": {},
          "output_type": "execute_result"
        }
      ],
      "source": [
        "world_pop_df = pd.read_csv('/home/raven/Documents/CS/CS522_DM/github/CS522_DataMining/inclass/week2/world_countries.csv').dropna(axis=1, how='all')\n",
        "world_pop_df"
      ]
    },
    {
      "cell_type": "markdown",
      "metadata": {
        "id": "33_YfFlt2MK2"
      },
      "source": [
        "To extract populations from world_pop_df, we have to merge happiness_df with world_pop_df. As you probably can remember that some of the country names in <code>world_counties.csv</code> and <code>happiness_2007.csv</code>do not match (Optional).\n",
        "\n",
        "There are 4 kinds of merge: 'inner', 'outer', 'left', and 'right'. We practiced inner merge previously.  \n",
        "\n",
        "You may find examples from https://jakevdp.github.io/PythonDataScienceHandbook/03.07-merge-and-join.html:\n",
        "Example: US States Data"
      ]
    },
    {
      "cell_type": "markdown",
      "metadata": {
        "id": "rYtwja-U3spD"
      },
      "source": [
        "### Q-5. Which country  has the largest population in Latin America and Caribbean."
      ]
    },
    {
      "cell_type": "code",
      "execution_count": null,
      "metadata": {
        "id": "zjdd_z8l4CKJ"
      },
      "outputs": [],
      "source": []
    },
    {
      "cell_type": "markdown",
      "metadata": {
        "id": "xTfh9Apo30xC"
      },
      "source": [
        "### Q-6. Find the average population of East Asia."
      ]
    },
    {
      "cell_type": "code",
      "execution_count": null,
      "metadata": {
        "id": "IJLLUw_K4CmH"
      },
      "outputs": [],
      "source": []
    },
    {
      "cell_type": "code",
      "execution_count": 199,
      "metadata": {},
      "outputs": [
        {
          "data": {
            "text/html": [
              "<div>\n",
              "<style scoped>\n",
              "    .dataframe tbody tr th:only-of-type {\n",
              "        vertical-align: middle;\n",
              "    }\n",
              "\n",
              "    .dataframe tbody tr th {\n",
              "        vertical-align: top;\n",
              "    }\n",
              "\n",
              "    .dataframe thead th {\n",
              "        text-align: right;\n",
              "    }\n",
              "</style>\n",
              "<table border=\"1\" class=\"dataframe\">\n",
              "  <thead>\n",
              "    <tr style=\"text-align: right;\">\n",
              "      <th></th>\n",
              "      <th>Rank</th>\n",
              "      <th>HappinessScore</th>\n",
              "      <th>Life Ladder</th>\n",
              "      <th>Log GDP per capita</th>\n",
              "      <th>Social support</th>\n",
              "      <th>Healthy life expectancy at birth</th>\n",
              "      <th>Freedom to make life choices</th>\n",
              "      <th>Generosity</th>\n",
              "      <th>Perceptions of corruption</th>\n",
              "      <th>Positive affect</th>\n",
              "      <th>Negative affect</th>\n",
              "      <th>Confidence in national government</th>\n",
              "    </tr>\n",
              "  </thead>\n",
              "  <tbody>\n",
              "    <tr>\n",
              "      <th>Rank</th>\n",
              "      <td>1.000000</td>\n",
              "      <td>-0.992966</td>\n",
              "      <td>-0.925602</td>\n",
              "      <td>-0.808868</td>\n",
              "      <td>-0.785411</td>\n",
              "      <td>-0.788070</td>\n",
              "      <td>-0.509626</td>\n",
              "      <td>-0.115276</td>\n",
              "      <td>0.473557</td>\n",
              "      <td>-0.534311</td>\n",
              "      <td>0.571605</td>\n",
              "      <td>0.138892</td>\n",
              "    </tr>\n",
              "    <tr>\n",
              "      <th>HappinessScore</th>\n",
              "      <td>-0.992966</td>\n",
              "      <td>1.000000</td>\n",
              "      <td>0.930529</td>\n",
              "      <td>0.805027</td>\n",
              "      <td>0.796957</td>\n",
              "      <td>0.790131</td>\n",
              "      <td>0.521046</td>\n",
              "      <td>0.147823</td>\n",
              "      <td>-0.503023</td>\n",
              "      <td>0.530417</td>\n",
              "      <td>-0.585881</td>\n",
              "      <td>-0.124755</td>\n",
              "    </tr>\n",
              "    <tr>\n",
              "      <th>Life Ladder</th>\n",
              "      <td>-0.925602</td>\n",
              "      <td>0.930529</td>\n",
              "      <td>1.000000</td>\n",
              "      <td>0.751703</td>\n",
              "      <td>0.756073</td>\n",
              "      <td>0.735743</td>\n",
              "      <td>0.568537</td>\n",
              "      <td>0.168043</td>\n",
              "      <td>-0.495680</td>\n",
              "      <td>0.574558</td>\n",
              "      <td>-0.586886</td>\n",
              "      <td>-0.105585</td>\n",
              "    </tr>\n",
              "    <tr>\n",
              "      <th>Log GDP per capita</th>\n",
              "      <td>-0.808868</td>\n",
              "      <td>0.805027</td>\n",
              "      <td>0.751703</td>\n",
              "      <td>1.000000</td>\n",
              "      <td>0.752665</td>\n",
              "      <td>0.856382</td>\n",
              "      <td>0.330385</td>\n",
              "      <td>-0.005600</td>\n",
              "      <td>-0.412119</td>\n",
              "      <td>0.311910</td>\n",
              "      <td>-0.556680</td>\n",
              "      <td>-0.225763</td>\n",
              "    </tr>\n",
              "    <tr>\n",
              "      <th>Social support</th>\n",
              "      <td>-0.785411</td>\n",
              "      <td>0.796957</td>\n",
              "      <td>0.756073</td>\n",
              "      <td>0.752665</td>\n",
              "      <td>1.000000</td>\n",
              "      <td>0.718873</td>\n",
              "      <td>0.434546</td>\n",
              "      <td>0.091917</td>\n",
              "      <td>-0.328778</td>\n",
              "      <td>0.452329</td>\n",
              "      <td>-0.661736</td>\n",
              "      <td>-0.162458</td>\n",
              "    </tr>\n",
              "    <tr>\n",
              "      <th>Healthy life expectancy at birth</th>\n",
              "      <td>-0.788070</td>\n",
              "      <td>0.790131</td>\n",
              "      <td>0.735743</td>\n",
              "      <td>0.856382</td>\n",
              "      <td>0.718873</td>\n",
              "      <td>1.000000</td>\n",
              "      <td>0.340851</td>\n",
              "      <td>0.018353</td>\n",
              "      <td>-0.374465</td>\n",
              "      <td>0.310637</td>\n",
              "      <td>-0.610326</td>\n",
              "      <td>-0.251910</td>\n",
              "    </tr>\n",
              "    <tr>\n",
              "      <th>Freedom to make life choices</th>\n",
              "      <td>-0.509626</td>\n",
              "      <td>0.521046</td>\n",
              "      <td>0.568537</td>\n",
              "      <td>0.330385</td>\n",
              "      <td>0.434546</td>\n",
              "      <td>0.340851</td>\n",
              "      <td>1.000000</td>\n",
              "      <td>0.317580</td>\n",
              "      <td>-0.447542</td>\n",
              "      <td>0.686400</td>\n",
              "      <td>-0.424593</td>\n",
              "      <td>0.436355</td>\n",
              "    </tr>\n",
              "    <tr>\n",
              "      <th>Generosity</th>\n",
              "      <td>-0.115276</td>\n",
              "      <td>0.147823</td>\n",
              "      <td>0.168043</td>\n",
              "      <td>-0.005600</td>\n",
              "      <td>0.091917</td>\n",
              "      <td>0.018353</td>\n",
              "      <td>0.317580</td>\n",
              "      <td>1.000000</td>\n",
              "      <td>-0.395848</td>\n",
              "      <td>0.277047</td>\n",
              "      <td>-0.142769</td>\n",
              "      <td>0.410432</td>\n",
              "    </tr>\n",
              "    <tr>\n",
              "      <th>Perceptions of corruption</th>\n",
              "      <td>0.473557</td>\n",
              "      <td>-0.503023</td>\n",
              "      <td>-0.495680</td>\n",
              "      <td>-0.412119</td>\n",
              "      <td>-0.328778</td>\n",
              "      <td>-0.374465</td>\n",
              "      <td>-0.447542</td>\n",
              "      <td>-0.395848</td>\n",
              "      <td>1.000000</td>\n",
              "      <td>-0.295075</td>\n",
              "      <td>0.371375</td>\n",
              "      <td>-0.429563</td>\n",
              "    </tr>\n",
              "    <tr>\n",
              "      <th>Positive affect</th>\n",
              "      <td>-0.534311</td>\n",
              "      <td>0.530417</td>\n",
              "      <td>0.574558</td>\n",
              "      <td>0.311910</td>\n",
              "      <td>0.452329</td>\n",
              "      <td>0.310637</td>\n",
              "      <td>0.686400</td>\n",
              "      <td>0.277047</td>\n",
              "      <td>-0.295075</td>\n",
              "      <td>1.000000</td>\n",
              "      <td>-0.432584</td>\n",
              "      <td>0.170989</td>\n",
              "    </tr>\n",
              "    <tr>\n",
              "      <th>Negative affect</th>\n",
              "      <td>0.571605</td>\n",
              "      <td>-0.585881</td>\n",
              "      <td>-0.586886</td>\n",
              "      <td>-0.556680</td>\n",
              "      <td>-0.661736</td>\n",
              "      <td>-0.610326</td>\n",
              "      <td>-0.424593</td>\n",
              "      <td>-0.142769</td>\n",
              "      <td>0.371375</td>\n",
              "      <td>-0.432584</td>\n",
              "      <td>1.000000</td>\n",
              "      <td>-0.003626</td>\n",
              "    </tr>\n",
              "    <tr>\n",
              "      <th>Confidence in national government</th>\n",
              "      <td>0.138892</td>\n",
              "      <td>-0.124755</td>\n",
              "      <td>-0.105585</td>\n",
              "      <td>-0.225763</td>\n",
              "      <td>-0.162458</td>\n",
              "      <td>-0.251910</td>\n",
              "      <td>0.436355</td>\n",
              "      <td>0.410432</td>\n",
              "      <td>-0.429563</td>\n",
              "      <td>0.170989</td>\n",
              "      <td>-0.003626</td>\n",
              "      <td>1.000000</td>\n",
              "    </tr>\n",
              "  </tbody>\n",
              "</table>\n",
              "</div>"
            ],
            "text/plain": [
              "                                       Rank  HappinessScore  Life Ladder  \\\n",
              "Rank                               1.000000       -0.992966    -0.925602   \n",
              "HappinessScore                    -0.992966        1.000000     0.930529   \n",
              "Life Ladder                       -0.925602        0.930529     1.000000   \n",
              "Log GDP per capita                -0.808868        0.805027     0.751703   \n",
              "Social support                    -0.785411        0.796957     0.756073   \n",
              "Healthy life expectancy at birth  -0.788070        0.790131     0.735743   \n",
              "Freedom to make life choices      -0.509626        0.521046     0.568537   \n",
              "Generosity                        -0.115276        0.147823     0.168043   \n",
              "Perceptions of corruption          0.473557       -0.503023    -0.495680   \n",
              "Positive affect                   -0.534311        0.530417     0.574558   \n",
              "Negative affect                    0.571605       -0.585881    -0.586886   \n",
              "Confidence in national government  0.138892       -0.124755    -0.105585   \n",
              "\n",
              "                                   Log GDP per capita  Social support  \\\n",
              "Rank                                        -0.808868       -0.785411   \n",
              "HappinessScore                               0.805027        0.796957   \n",
              "Life Ladder                                  0.751703        0.756073   \n",
              "Log GDP per capita                           1.000000        0.752665   \n",
              "Social support                               0.752665        1.000000   \n",
              "Healthy life expectancy at birth             0.856382        0.718873   \n",
              "Freedom to make life choices                 0.330385        0.434546   \n",
              "Generosity                                  -0.005600        0.091917   \n",
              "Perceptions of corruption                   -0.412119       -0.328778   \n",
              "Positive affect                              0.311910        0.452329   \n",
              "Negative affect                             -0.556680       -0.661736   \n",
              "Confidence in national government           -0.225763       -0.162458   \n",
              "\n",
              "                                   Healthy life expectancy at birth  \\\n",
              "Rank                                                      -0.788070   \n",
              "HappinessScore                                             0.790131   \n",
              "Life Ladder                                                0.735743   \n",
              "Log GDP per capita                                         0.856382   \n",
              "Social support                                             0.718873   \n",
              "Healthy life expectancy at birth                           1.000000   \n",
              "Freedom to make life choices                               0.340851   \n",
              "Generosity                                                 0.018353   \n",
              "Perceptions of corruption                                 -0.374465   \n",
              "Positive affect                                            0.310637   \n",
              "Negative affect                                           -0.610326   \n",
              "Confidence in national government                         -0.251910   \n",
              "\n",
              "                                   Freedom to make life choices  Generosity  \\\n",
              "Rank                                                  -0.509626   -0.115276   \n",
              "HappinessScore                                         0.521046    0.147823   \n",
              "Life Ladder                                            0.568537    0.168043   \n",
              "Log GDP per capita                                     0.330385   -0.005600   \n",
              "Social support                                         0.434546    0.091917   \n",
              "Healthy life expectancy at birth                       0.340851    0.018353   \n",
              "Freedom to make life choices                           1.000000    0.317580   \n",
              "Generosity                                             0.317580    1.000000   \n",
              "Perceptions of corruption                             -0.447542   -0.395848   \n",
              "Positive affect                                        0.686400    0.277047   \n",
              "Negative affect                                       -0.424593   -0.142769   \n",
              "Confidence in national government                      0.436355    0.410432   \n",
              "\n",
              "                                   Perceptions of corruption  Positive affect  \\\n",
              "Rank                                                0.473557        -0.534311   \n",
              "HappinessScore                                     -0.503023         0.530417   \n",
              "Life Ladder                                        -0.495680         0.574558   \n",
              "Log GDP per capita                                 -0.412119         0.311910   \n",
              "Social support                                     -0.328778         0.452329   \n",
              "Healthy life expectancy at birth                   -0.374465         0.310637   \n",
              "Freedom to make life choices                       -0.447542         0.686400   \n",
              "Generosity                                         -0.395848         0.277047   \n",
              "Perceptions of corruption                           1.000000        -0.295075   \n",
              "Positive affect                                    -0.295075         1.000000   \n",
              "Negative affect                                     0.371375        -0.432584   \n",
              "Confidence in national government                  -0.429563         0.170989   \n",
              "\n",
              "                                   Negative affect  \\\n",
              "Rank                                      0.571605   \n",
              "HappinessScore                           -0.585881   \n",
              "Life Ladder                              -0.586886   \n",
              "Log GDP per capita                       -0.556680   \n",
              "Social support                           -0.661736   \n",
              "Healthy life expectancy at birth         -0.610326   \n",
              "Freedom to make life choices             -0.424593   \n",
              "Generosity                               -0.142769   \n",
              "Perceptions of corruption                 0.371375   \n",
              "Positive affect                          -0.432584   \n",
              "Negative affect                           1.000000   \n",
              "Confidence in national government        -0.003626   \n",
              "\n",
              "                                   Confidence in national government  \n",
              "Rank                                                        0.138892  \n",
              "HappinessScore                                             -0.124755  \n",
              "Life Ladder                                                -0.105585  \n",
              "Log GDP per capita                                         -0.225763  \n",
              "Social support                                             -0.162458  \n",
              "Healthy life expectancy at birth                           -0.251910  \n",
              "Freedom to make life choices                                0.436355  \n",
              "Generosity                                                  0.410432  \n",
              "Perceptions of corruption                                  -0.429563  \n",
              "Positive affect                                             0.170989  \n",
              "Negative affect                                            -0.003626  \n",
              "Confidence in national government                           1.000000  "
            ]
          },
          "execution_count": 199,
          "metadata": {},
          "output_type": "execute_result"
        }
      ],
      "source": [
        "import matplotlib.pyplot as plt\n",
        "\n",
        "happiness_df_num = happiness_df.select_dtypes(include=['int','float64'])\n",
        "happiness_df_num.corr()\n"
      ]
    },
    {
      "cell_type": "code",
      "execution_count": null,
      "metadata": {},
      "outputs": [],
      "source": []
    }
  ],
  "metadata": {
    "colab": {
      "include_colab_link": true,
      "provenance": []
    },
    "kernelspec": {
      "display_name": "Python 3",
      "language": "python",
      "name": "python3"
    },
    "language_info": {
      "codemirror_mode": {
        "name": "ipython",
        "version": 3
      },
      "file_extension": ".py",
      "mimetype": "text/x-python",
      "name": "python",
      "nbconvert_exporter": "python",
      "pygments_lexer": "ipython3",
      "version": "3.10.12"
    }
  },
  "nbformat": 4,
  "nbformat_minor": 0
}
