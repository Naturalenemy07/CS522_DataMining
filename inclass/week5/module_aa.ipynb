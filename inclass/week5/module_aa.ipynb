{
  "cells": [
    {
      "cell_type": "markdown",
      "metadata": {
        "colab_type": "text",
        "id": "view-in-github"
      },
      "source": [
        "<a href=\"https://colab.research.google.com/github/OpenCV13/dm/blob/main/module_aa.ipynb\" target=\"_parent\"><img src=\"https://colab.research.google.com/assets/colab-badge.svg\" alt=\"Open In Colab\"/></a>"
      ]
    },
    {
      "cell_type": "markdown",
      "metadata": {
        "id": "WIVXc6MvxdTG"
      },
      "source": [
        "# Module AA: Association Analysis\n",
        "\n",
        "An example from this link.\n",
        "\n",
        "https://www.kaggle.com/code/sangwookchn/association-rule-learning-with-scikit-learn/notebook"
      ]
    },
    {
      "cell_type": "code",
      "execution_count": 63,
      "metadata": {
        "colab": {
          "base_uri": "https://localhost:8080/"
        },
        "id": "ElOmCi1AKi_M",
        "outputId": "1357df0d-6143-4c9f-d140-5511d9dffbe1"
      },
      "outputs": [],
      "source": [
        "# from google.colab import drive\n",
        "# drive.mount('/content/drive')"
      ]
    },
    {
      "cell_type": "code",
      "execution_count": 64,
      "metadata": {
        "id": "Qg0SLlW1KwwS"
      },
      "outputs": [],
      "source": [
        "import pandas as pd\n",
        "import numpy as np\n",
        "import matplotlib.pyplot as plt"
      ]
    },
    {
      "cell_type": "code",
      "execution_count": 65,
      "metadata": {
        "colab": {
          "base_uri": "https://localhost:8080/",
          "height": 275
        },
        "id": "tfT2MOlLKedx",
        "outputId": "9f3b7556-d1b6-4550-f57d-d00e2dfc96e5"
      },
      "outputs": [
        {
          "name": "stdout",
          "output_type": "stream",
          "text": [
            "(7501, 20)\n"
          ]
        },
        {
          "data": {
            "text/html": [
              "<div>\n",
              "<style scoped>\n",
              "    .dataframe tbody tr th:only-of-type {\n",
              "        vertical-align: middle;\n",
              "    }\n",
              "\n",
              "    .dataframe tbody tr th {\n",
              "        vertical-align: top;\n",
              "    }\n",
              "\n",
              "    .dataframe thead th {\n",
              "        text-align: right;\n",
              "    }\n",
              "</style>\n",
              "<table border=\"1\" class=\"dataframe\">\n",
              "  <thead>\n",
              "    <tr style=\"text-align: right;\">\n",
              "      <th></th>\n",
              "      <th>0</th>\n",
              "      <th>1</th>\n",
              "      <th>2</th>\n",
              "      <th>3</th>\n",
              "      <th>4</th>\n",
              "      <th>5</th>\n",
              "      <th>6</th>\n",
              "      <th>7</th>\n",
              "      <th>8</th>\n",
              "      <th>9</th>\n",
              "      <th>10</th>\n",
              "      <th>11</th>\n",
              "      <th>12</th>\n",
              "      <th>13</th>\n",
              "      <th>14</th>\n",
              "      <th>15</th>\n",
              "      <th>16</th>\n",
              "      <th>17</th>\n",
              "      <th>18</th>\n",
              "      <th>19</th>\n",
              "    </tr>\n",
              "  </thead>\n",
              "  <tbody>\n",
              "    <tr>\n",
              "      <th>0</th>\n",
              "      <td>shrimp</td>\n",
              "      <td>almonds</td>\n",
              "      <td>avocado</td>\n",
              "      <td>vegetables mix</td>\n",
              "      <td>green grapes</td>\n",
              "      <td>whole weat flour</td>\n",
              "      <td>yams</td>\n",
              "      <td>cottage cheese</td>\n",
              "      <td>energy drink</td>\n",
              "      <td>tomato juice</td>\n",
              "      <td>low fat yogurt</td>\n",
              "      <td>green tea</td>\n",
              "      <td>honey</td>\n",
              "      <td>salad</td>\n",
              "      <td>mineral water</td>\n",
              "      <td>salmon</td>\n",
              "      <td>antioxydant juice</td>\n",
              "      <td>frozen smoothie</td>\n",
              "      <td>spinach</td>\n",
              "      <td>olive oil</td>\n",
              "    </tr>\n",
              "    <tr>\n",
              "      <th>1</th>\n",
              "      <td>burgers</td>\n",
              "      <td>meatballs</td>\n",
              "      <td>eggs</td>\n",
              "      <td>NaN</td>\n",
              "      <td>NaN</td>\n",
              "      <td>NaN</td>\n",
              "      <td>NaN</td>\n",
              "      <td>NaN</td>\n",
              "      <td>NaN</td>\n",
              "      <td>NaN</td>\n",
              "      <td>NaN</td>\n",
              "      <td>NaN</td>\n",
              "      <td>NaN</td>\n",
              "      <td>NaN</td>\n",
              "      <td>NaN</td>\n",
              "      <td>NaN</td>\n",
              "      <td>NaN</td>\n",
              "      <td>NaN</td>\n",
              "      <td>NaN</td>\n",
              "      <td>NaN</td>\n",
              "    </tr>\n",
              "    <tr>\n",
              "      <th>2</th>\n",
              "      <td>chutney</td>\n",
              "      <td>NaN</td>\n",
              "      <td>NaN</td>\n",
              "      <td>NaN</td>\n",
              "      <td>NaN</td>\n",
              "      <td>NaN</td>\n",
              "      <td>NaN</td>\n",
              "      <td>NaN</td>\n",
              "      <td>NaN</td>\n",
              "      <td>NaN</td>\n",
              "      <td>NaN</td>\n",
              "      <td>NaN</td>\n",
              "      <td>NaN</td>\n",
              "      <td>NaN</td>\n",
              "      <td>NaN</td>\n",
              "      <td>NaN</td>\n",
              "      <td>NaN</td>\n",
              "      <td>NaN</td>\n",
              "      <td>NaN</td>\n",
              "      <td>NaN</td>\n",
              "    </tr>\n",
              "    <tr>\n",
              "      <th>3</th>\n",
              "      <td>turkey</td>\n",
              "      <td>avocado</td>\n",
              "      <td>NaN</td>\n",
              "      <td>NaN</td>\n",
              "      <td>NaN</td>\n",
              "      <td>NaN</td>\n",
              "      <td>NaN</td>\n",
              "      <td>NaN</td>\n",
              "      <td>NaN</td>\n",
              "      <td>NaN</td>\n",
              "      <td>NaN</td>\n",
              "      <td>NaN</td>\n",
              "      <td>NaN</td>\n",
              "      <td>NaN</td>\n",
              "      <td>NaN</td>\n",
              "      <td>NaN</td>\n",
              "      <td>NaN</td>\n",
              "      <td>NaN</td>\n",
              "      <td>NaN</td>\n",
              "      <td>NaN</td>\n",
              "    </tr>\n",
              "    <tr>\n",
              "      <th>4</th>\n",
              "      <td>mineral water</td>\n",
              "      <td>milk</td>\n",
              "      <td>energy bar</td>\n",
              "      <td>whole wheat rice</td>\n",
              "      <td>green tea</td>\n",
              "      <td>NaN</td>\n",
              "      <td>NaN</td>\n",
              "      <td>NaN</td>\n",
              "      <td>NaN</td>\n",
              "      <td>NaN</td>\n",
              "      <td>NaN</td>\n",
              "      <td>NaN</td>\n",
              "      <td>NaN</td>\n",
              "      <td>NaN</td>\n",
              "      <td>NaN</td>\n",
              "      <td>NaN</td>\n",
              "      <td>NaN</td>\n",
              "      <td>NaN</td>\n",
              "      <td>NaN</td>\n",
              "      <td>NaN</td>\n",
              "    </tr>\n",
              "  </tbody>\n",
              "</table>\n",
              "</div>"
            ],
            "text/plain": [
              "              0          1           2                 3             4   \\\n",
              "0         shrimp    almonds     avocado    vegetables mix  green grapes   \n",
              "1        burgers  meatballs        eggs               NaN           NaN   \n",
              "2        chutney        NaN         NaN               NaN           NaN   \n",
              "3         turkey    avocado         NaN               NaN           NaN   \n",
              "4  mineral water       milk  energy bar  whole wheat rice     green tea   \n",
              "\n",
              "                 5     6               7             8             9   \\\n",
              "0  whole weat flour  yams  cottage cheese  energy drink  tomato juice   \n",
              "1               NaN   NaN             NaN           NaN           NaN   \n",
              "2               NaN   NaN             NaN           NaN           NaN   \n",
              "3               NaN   NaN             NaN           NaN           NaN   \n",
              "4               NaN   NaN             NaN           NaN           NaN   \n",
              "\n",
              "               10         11     12     13             14      15  \\\n",
              "0  low fat yogurt  green tea  honey  salad  mineral water  salmon   \n",
              "1             NaN        NaN    NaN    NaN            NaN     NaN   \n",
              "2             NaN        NaN    NaN    NaN            NaN     NaN   \n",
              "3             NaN        NaN    NaN    NaN            NaN     NaN   \n",
              "4             NaN        NaN    NaN    NaN            NaN     NaN   \n",
              "\n",
              "                  16               17       18         19  \n",
              "0  antioxydant juice  frozen smoothie  spinach  olive oil  \n",
              "1                NaN              NaN      NaN        NaN  \n",
              "2                NaN              NaN      NaN        NaN  \n",
              "3                NaN              NaN      NaN        NaN  \n",
              "4                NaN              NaN      NaN        NaN  "
            ]
          },
          "execution_count": 65,
          "metadata": {},
          "output_type": "execute_result"
        }
      ],
      "source": [
        "dataset = pd.read_csv('Market_Basket_Optimisation.csv', header = None) #To make sure the first row is not thought of as the heading\n",
        "print(dataset.shape)\n",
        "dataset.head()"
      ]
    },
    {
      "cell_type": "code",
      "execution_count": 66,
      "metadata": {
        "colab": {
          "base_uri": "https://localhost:8080/"
        },
        "id": "MV0weJohcvP3",
        "outputId": "a9377641-eb77-422d-98b5-4c49211c6e98"
      },
      "outputs": [
        {
          "name": "stdout",
          "output_type": "stream",
          "text": [
            "['shrimp', 'almonds', 'avocado', 'vegetables mix', 'green grapes', 'whole weat flour', 'yams', 'cottage cheese', 'energy drink', 'tomato juice', 'low fat yogurt', 'green tea', 'honey', 'salad', 'mineral water', 'salmon', 'antioxydant juice', 'frozen smoothie', 'spinach', 'olive oil']\n"
          ]
        }
      ],
      "source": [
        "#Transforming the list into a list of lists, so that each transaction can be indexed easier\n",
        "transactions = []\n",
        "for i in range(0, dataset.shape[0]):\n",
        "    transactions.append([str(dataset.values[i, j]) for j in range(0, 20)])\n",
        "\n",
        "print(transactions[0])"
      ]
    },
    {
      "cell_type": "code",
      "execution_count": 67,
      "metadata": {
        "colab": {
          "base_uri": "https://localhost:8080/"
        },
        "id": "fMuXjwToLUnu",
        "outputId": "19b14012-9732-4f74-b8f0-a452f7a9fc46"
      },
      "outputs": [
        {
          "name": "stdout",
          "output_type": "stream",
          "text": [
            "Requirement already satisfied: apyori in /home/raven/Documents/CS/CS522_DM/github/CS522_DataMining/datamining/lib/python3.10/site-packages (1.1.2)\n"
          ]
        }
      ],
      "source": [
        "!pip install apyori"
      ]
    },
    {
      "cell_type": "code",
      "execution_count": 68,
      "metadata": {
        "id": "pWuhA823K70D"
      },
      "outputs": [],
      "source": [
        "from apyori import apriori\n",
        "# Please download this as a custom package --> type \"apyori\"\n",
        "# To load custom packages, do not refresh the page. Instead, click on the reset button on the Console.\n",
        "\n",
        "rules = apriori(transactions, min_support = 0.003, min_confidence = 0.2, min_lift = 3, min_length = 2)\n",
        "# Support: number of transactions containing set of times / total number of transactions\n",
        "# .      --> products that are bought at least 3 times a day --> 21 / 7501 = 0.0027\n",
        "# Confidence: Should not be too high, as then this wil lead to obvious rules\n",
        "\n",
        "#Try many combinations of values to experiment with the model.\n",
        "\n",
        "#viewing the rules\n",
        "results = list(rules)"
      ]
    },
    {
      "cell_type": "code",
      "execution_count": 69,
      "metadata": {
        "colab": {
          "base_uri": "https://localhost:8080/",
          "height": 244
        },
        "id": "llZwcFB6Lwwu",
        "outputId": "c8dcabfb-df98-4837-c688-59133937e8e9"
      },
      "outputs": [],
      "source": [
        "#Transferring the list to a table\n",
        "\n",
        "results = pd.DataFrame(results)\n",
        "results\n",
        "results.to_csv('results.csv')"
      ]
    },
    {
      "cell_type": "markdown",
      "metadata": {
        "id": "RnkuRawcNKFw"
      },
      "source": [
        "\"The first item in the list is a list itself containing three items. The first item of the list shows the grocery items in the rule.\n",
        "\n",
        "For instance from the first item, we can see that light cream and chicken are commonly bought together. This makes sense since people who purchase light cream are careful about what they eat hence they are more likely to buy chicken i.e. white meat instead of red meat i.e. beef. Or this could mean that light cream is commonly used in recipes for chicken.\n",
        "\n",
        "The support value for the first rule is 0.0045. This number is calculated by dividing the number of transactions containing light cream divided by total number of transactions. The confidence level for the rule is 0.2905 which shows that out of all the transactions that contain light cream, 29.05% of the transactions also contain chicken. Finally, the lift of 4.84 tells us that chicken is 4.84 times more likely to be bought by the customers who buy light cream compared to the default likelihood of the sale of chicken.\"\n",
        "\n",
        "From https://stackabuse.com/association-rule-mining-via-apriori-algorithm-in-python/"
      ]
    },
    {
      "cell_type": "markdown",
      "metadata": {
        "id": "FUa86p_ednDt"
      },
      "source": [
        "## In-Class: Association Analysis ##\n",
        "Customer Computer Configuration"
      ]
    },
    {
      "cell_type": "code",
      "execution_count": 70,
      "metadata": {
        "colab": {
          "base_uri": "https://localhost:8080/",
          "height": 223
        },
        "id": "OSTCsydbdBcb",
        "outputId": "ce0e356a-8b75-4bd2-8942-dd58564b296b"
      },
      "outputs": [
        {
          "name": "stdout",
          "output_type": "stream",
          "text": [
            "(67, 12)\n"
          ]
        },
        {
          "data": {
            "text/html": [
              "<div>\n",
              "<style scoped>\n",
              "    .dataframe tbody tr th:only-of-type {\n",
              "        vertical-align: middle;\n",
              "    }\n",
              "\n",
              "    .dataframe tbody tr th {\n",
              "        vertical-align: top;\n",
              "    }\n",
              "\n",
              "    .dataframe thead th {\n",
              "        text-align: right;\n",
              "    }\n",
              "</style>\n",
              "<table border=\"1\" class=\"dataframe\">\n",
              "  <thead>\n",
              "    <tr style=\"text-align: right;\">\n",
              "      <th></th>\n",
              "      <th>Intel Core i3</th>\n",
              "      <th>Intel Core i5</th>\n",
              "      <th>Intel Core i7</th>\n",
              "      <th>10 inch screen</th>\n",
              "      <th>12 inch screen</th>\n",
              "      <th>15 inch screen</th>\n",
              "      <th>2 GB</th>\n",
              "      <th>4 GB</th>\n",
              "      <th>8 GB</th>\n",
              "      <th>320 GB</th>\n",
              "      <th>500 GB</th>\n",
              "      <th>750 GB</th>\n",
              "    </tr>\n",
              "  </thead>\n",
              "  <tbody>\n",
              "    <tr>\n",
              "      <th>0</th>\n",
              "      <td>0</td>\n",
              "      <td>1</td>\n",
              "      <td>0</td>\n",
              "      <td>0</td>\n",
              "      <td>1</td>\n",
              "      <td>0</td>\n",
              "      <td>0</td>\n",
              "      <td>1</td>\n",
              "      <td>0</td>\n",
              "      <td>0</td>\n",
              "      <td>1</td>\n",
              "      <td>0</td>\n",
              "    </tr>\n",
              "    <tr>\n",
              "      <th>1</th>\n",
              "      <td>0</td>\n",
              "      <td>1</td>\n",
              "      <td>0</td>\n",
              "      <td>0</td>\n",
              "      <td>0</td>\n",
              "      <td>1</td>\n",
              "      <td>0</td>\n",
              "      <td>0</td>\n",
              "      <td>1</td>\n",
              "      <td>0</td>\n",
              "      <td>0</td>\n",
              "      <td>1</td>\n",
              "    </tr>\n",
              "    <tr>\n",
              "      <th>2</th>\n",
              "      <td>0</td>\n",
              "      <td>1</td>\n",
              "      <td>0</td>\n",
              "      <td>0</td>\n",
              "      <td>1</td>\n",
              "      <td>0</td>\n",
              "      <td>0</td>\n",
              "      <td>1</td>\n",
              "      <td>0</td>\n",
              "      <td>1</td>\n",
              "      <td>0</td>\n",
              "      <td>0</td>\n",
              "    </tr>\n",
              "    <tr>\n",
              "      <th>3</th>\n",
              "      <td>1</td>\n",
              "      <td>0</td>\n",
              "      <td>0</td>\n",
              "      <td>0</td>\n",
              "      <td>1</td>\n",
              "      <td>0</td>\n",
              "      <td>0</td>\n",
              "      <td>0</td>\n",
              "      <td>1</td>\n",
              "      <td>0</td>\n",
              "      <td>1</td>\n",
              "      <td>0</td>\n",
              "    </tr>\n",
              "    <tr>\n",
              "      <th>4</th>\n",
              "      <td>0</td>\n",
              "      <td>0</td>\n",
              "      <td>1</td>\n",
              "      <td>0</td>\n",
              "      <td>0</td>\n",
              "      <td>1</td>\n",
              "      <td>0</td>\n",
              "      <td>0</td>\n",
              "      <td>1</td>\n",
              "      <td>0</td>\n",
              "      <td>0</td>\n",
              "      <td>1</td>\n",
              "    </tr>\n",
              "  </tbody>\n",
              "</table>\n",
              "</div>"
            ],
            "text/plain": [
              "   Intel Core i3  Intel Core i5  Intel Core i7  10 inch screen  \\\n",
              "0              0              1              0               0   \n",
              "1              0              1              0               0   \n",
              "2              0              1              0               0   \n",
              "3              1              0              0               0   \n",
              "4              0              0              1               0   \n",
              "\n",
              "   12 inch screen  15 inch screen  2 GB   4 GB  8 GB  320 GB  500 GB  750 GB  \n",
              "0               1               0      0     1     0       0       1       0  \n",
              "1               0               1      0     0     1       0       0       1  \n",
              "2               1               0      0     1     0       1       0       0  \n",
              "3               1               0      0     0     1       0       1       0  \n",
              "4               0               1      0     0     1       0       0       1  "
            ]
          },
          "execution_count": 70,
          "metadata": {},
          "output_type": "execute_result"
        }
      ],
      "source": [
        "pc_purchase = pd.read_csv('PC-Purchase-Data.csv') #To make sure the first row is not thought of as the heading\n",
        "print(pc_purchase.shape)\n",
        "pc_purchase.head()"
      ]
    },
    {
      "cell_type": "markdown",
      "metadata": {
        "id": "ocFvahj8eDIT"
      },
      "source": [
        "The data represent the configurations for a small number of orders of laptops placed over the web. The main options from which customers can choose are the type of processors, screen size, memory, and hard drive. A '1' signifies that a customer selected a particular option. If the manufacturer can better understand what types of components are often ordered together, it can speed up final assembly by having partially completed laptops with the mYourorelar combinations of orderingnents configured before order. You task to is find the most popular configuraions."
      ]
    },
    {
      "cell_type": "markdown",
      "metadata": {
        "id": "9faojJMBgFLU"
      },
      "source": [
        "Reflection:\n",
        "Use support, confidence, and lift correctly to explain your findings.\n"
      ]
    },
    {
      "cell_type": "code",
      "execution_count": 71,
      "metadata": {},
      "outputs": [],
      "source": [
        "columns = pc_purchase.columns\n",
        "\n",
        "for column_label in columns:\n",
        "    pc_purchase[column_label].replace(to_replace=1, value=column_label, inplace=True)\n",
        "    pc_purchase[column_label].replace(to_replace=0, value=np.nan, inplace=True)\n"
      ]
    },
    {
      "cell_type": "code",
      "execution_count": 72,
      "metadata": {},
      "outputs": [
        {
          "name": "stdout",
          "output_type": "stream",
          "text": [
            "['nan', 'Intel Core i5', 'nan', 'nan', 'nan', '15 inch screen', 'nan', 'nan', '8 GB', 'nan', 'nan', '750 GB']\n"
          ]
        }
      ],
      "source": [
        "#Transforming the list into a list of lists, so that each transaction can be indexed easier\n",
        "transactions_pc = []\n",
        "for i in range(0, pc_purchase.shape[0]):\n",
        "    transactions_pc.append([str(pc_purchase.values[i, j]) for j in range(0, pc_purchase.shape[1])])\n",
        "\n",
        "print(transactions_pc[1])"
      ]
    },
    {
      "cell_type": "code",
      "execution_count": 73,
      "metadata": {},
      "outputs": [
        {
          "data": {
            "text/html": [
              "<div>\n",
              "<style scoped>\n",
              "    .dataframe tbody tr th:only-of-type {\n",
              "        vertical-align: middle;\n",
              "    }\n",
              "\n",
              "    .dataframe tbody tr th {\n",
              "        vertical-align: top;\n",
              "    }\n",
              "\n",
              "    .dataframe thead th {\n",
              "        text-align: right;\n",
              "    }\n",
              "</style>\n",
              "<table border=\"1\" class=\"dataframe\">\n",
              "  <thead>\n",
              "    <tr style=\"text-align: right;\">\n",
              "      <th></th>\n",
              "      <th>items</th>\n",
              "      <th>support</th>\n",
              "      <th>ordered_statistics</th>\n",
              "    </tr>\n",
              "  </thead>\n",
              "  <tbody>\n",
              "    <tr>\n",
              "      <th>0</th>\n",
              "      <td>(8 GB, 10 inch screen, 750 GB)</td>\n",
              "      <td>0.014925</td>\n",
              "      <td>[((10 inch screen, 750 GB), (8 GB), 1.0, 5.153...</td>\n",
              "    </tr>\n",
              "    <tr>\n",
              "      <th>1</th>\n",
              "      <td>(Intel Core i3, 10 inch screen, 750 GB)</td>\n",
              "      <td>0.014925</td>\n",
              "      <td>[((10 inch screen, 750 GB), (Intel Core i3), 1...</td>\n",
              "    </tr>\n",
              "    <tr>\n",
              "      <th>2</th>\n",
              "      <td>(8 GB, Intel Core i3, 10 inch screen)</td>\n",
              "      <td>0.014925</td>\n",
              "      <td>[((8 GB, 10 inch screen), (Intel Core i3), 1.0...</td>\n",
              "    </tr>\n",
              "    <tr>\n",
              "      <th>3</th>\n",
              "      <td>(320 GB, Intel Core i3, 15 inch screen)</td>\n",
              "      <td>0.029851</td>\n",
              "      <td>[((Intel Core i3, 15 inch screen), (320 GB), 1...</td>\n",
              "    </tr>\n",
              "    <tr>\n",
              "      <th>4</th>\n",
              "      <td>(8 GB, 750 GB, 15 inch screen)</td>\n",
              "      <td>0.074627</td>\n",
              "      <td>[((750 GB), (8 GB, 15 inch screen), 0.29411764...</td>\n",
              "    </tr>\n",
              "    <tr>\n",
              "      <th>5</th>\n",
              "      <td>(Intel Core i7, 750 GB, 15 inch screen)</td>\n",
              "      <td>0.074627</td>\n",
              "      <td>[((750 GB), (Intel Core i7, 15 inch screen), 0...</td>\n",
              "    </tr>\n",
              "    <tr>\n",
              "      <th>6</th>\n",
              "      <td>(Intel Core i7, 8 GB, 15 inch screen)</td>\n",
              "      <td>0.059701</td>\n",
              "      <td>[((8 GB), (Intel Core i7, 15 inch screen), 0.3...</td>\n",
              "    </tr>\n",
              "    <tr>\n",
              "      <th>7</th>\n",
              "      <td>(320 GB, 4 GB, 2 GB )</td>\n",
              "      <td>0.014925</td>\n",
              "      <td>[((4 GB, 2 GB ), (320 GB), 1.0, 3.526315789473...</td>\n",
              "    </tr>\n",
              "    <tr>\n",
              "      <th>8</th>\n",
              "      <td>(Intel Core i3, 4 GB, 2 GB )</td>\n",
              "      <td>0.014925</td>\n",
              "      <td>[((4 GB, 2 GB ), (Intel Core i3), 1.0, 3.04545...</td>\n",
              "    </tr>\n",
              "    <tr>\n",
              "      <th>9</th>\n",
              "      <td>(Intel Core i7, 4 GB, 750 GB)</td>\n",
              "      <td>0.059701</td>\n",
              "      <td>[((Intel Core i7), (4 GB, 750 GB), 0.333333333...</td>\n",
              "    </tr>\n",
              "  </tbody>\n",
              "</table>\n",
              "</div>"
            ],
            "text/plain": [
              "                                     items   support  \\\n",
              "0           (8 GB, 10 inch screen, 750 GB)  0.014925   \n",
              "1  (Intel Core i3, 10 inch screen, 750 GB)  0.014925   \n",
              "2    (8 GB, Intel Core i3, 10 inch screen)  0.014925   \n",
              "3  (320 GB, Intel Core i3, 15 inch screen)  0.029851   \n",
              "4           (8 GB, 750 GB, 15 inch screen)  0.074627   \n",
              "5  (Intel Core i7, 750 GB, 15 inch screen)  0.074627   \n",
              "6    (Intel Core i7, 8 GB, 15 inch screen)  0.059701   \n",
              "7                    (320 GB, 4 GB, 2 GB )  0.014925   \n",
              "8             (Intel Core i3, 4 GB, 2 GB )  0.014925   \n",
              "9            (Intel Core i7, 4 GB, 750 GB)  0.059701   \n",
              "\n",
              "                                  ordered_statistics  \n",
              "0  [((10 inch screen, 750 GB), (8 GB), 1.0, 5.153...  \n",
              "1  [((10 inch screen, 750 GB), (Intel Core i3), 1...  \n",
              "2  [((8 GB, 10 inch screen), (Intel Core i3), 1.0...  \n",
              "3  [((Intel Core i3, 15 inch screen), (320 GB), 1...  \n",
              "4  [((750 GB), (8 GB, 15 inch screen), 0.29411764...  \n",
              "5  [((750 GB), (Intel Core i7, 15 inch screen), 0...  \n",
              "6  [((8 GB), (Intel Core i7, 15 inch screen), 0.3...  \n",
              "7  [((4 GB, 2 GB ), (320 GB), 1.0, 3.526315789473...  \n",
              "8  [((4 GB, 2 GB ), (Intel Core i3), 1.0, 3.04545...  \n",
              "9  [((Intel Core i7), (4 GB, 750 GB), 0.333333333...  "
            ]
          },
          "metadata": {},
          "output_type": "display_data"
        },
        {
          "data": {
            "text/plain": [
              "[OrderedStatistic(items_base=frozenset({'10 inch screen', '750 GB'}), items_add=frozenset({'8 GB'}), confidence=1.0, lift=5.153846153846153),\n",
              " OrderedStatistic(items_base=frozenset({'8 GB', '10 inch screen'}), items_add=frozenset({'750 GB'}), confidence=1.0, lift=3.941176470588235)]"
            ]
          },
          "execution_count": 73,
          "metadata": {},
          "output_type": "execute_result"
        }
      ],
      "source": [
        "rules_pc = apriori(transactions_pc, min_support = 0.003, min_confidence = 0.2, min_lift = 3, min_length = 2)\n",
        "results_pc = list(rules_pc)\n",
        "results_pc_df = pd.DataFrame(results_pc)\n",
        "# results_pc_df.to_csv('results_pc_df.csv')\n",
        "with pd.option_context('display.max_rows', None, 'display.max_columns', None): \n",
        "    display(results_pc_df.head(10))\n",
        "results_pc_df['ordered_statistics'][0]"
      ]
    },
    {
      "cell_type": "markdown",
      "metadata": {},
      "source": [
        "The top four rules all have confidences of 1.0, however their supports are at 0.014925, 0.014925, 0.014925 and 0.029851 respectively.  All four lift scores are above 3, so this indicates a strong correlation.  However the occurance of these four rules are relatively low compared to the rules with the highest support score.  \n",
        "\n",
        "The itemset with the highest support is {'Intel Core i7', '750 GB', '15 inch screen'} and {'8 GB', '750 GB', '15 inch screen'} with a support of 0.074627.  This was calculated by taking the number of these itemsets divided by the total number of transactions.  The subsets of these two itemsets also had a support of 0.07462.  These itemsets had confidence scores of 0.8333 and 1.0 respectively.  This is good and indicates the rules are reliable.  Looking at the lift provides further insight into how interesting the rules are.  The lift of these rules are 3.2843 and 3.9411 respectively.  Since the lifts are greater than 1, this indicates positive association.\n",
        "\n",
        "My ordered_statistics had multiple values for each row, I think it calculated the statistics after adding the items to the itemset.  Please let me know if this was a correct assumption.  "
      ]
    },
    {
      "cell_type": "markdown",
      "metadata": {},
      "source": []
    }
  ],
  "metadata": {
    "colab": {
      "include_colab_link": true,
      "provenance": []
    },
    "kernelspec": {
      "display_name": "Python 3",
      "language": "python",
      "name": "python3"
    },
    "language_info": {
      "codemirror_mode": {
        "name": "ipython",
        "version": 3
      },
      "file_extension": ".py",
      "mimetype": "text/x-python",
      "name": "python",
      "nbconvert_exporter": "python",
      "pygments_lexer": "ipython3",
      "version": "3.10.12"
    }
  },
  "nbformat": 4,
  "nbformat_minor": 0
}
